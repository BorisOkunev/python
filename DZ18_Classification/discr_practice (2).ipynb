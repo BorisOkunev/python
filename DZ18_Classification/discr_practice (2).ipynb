{
 "cells": [
  {
   "cell_type": "code",
   "execution_count": 1,
   "metadata": {
    "id": "-ppToJrUWoJ0"
   },
   "outputs": [],
   "source": [
    "from sklearn.datasets import load_wine\n",
    "import pandas as pd\n",
    "import numpy as np\n",
    "import matplotlib.pyplot as plt\n",
    "from matplotlib import colors"
   ]
  },
  {
   "cell_type": "code",
   "execution_count": 2,
   "metadata": {
    "id": "ik4WLSx51KZY"
   },
   "outputs": [],
   "source": [
    "cmap = colors.LinearSegmentedColormap(\n",
    "    'red_blue_classes',\n",
    "    {'red': [(0, 1, 1), (1, 0.7, 0.7)],\n",
    "     'green': [(0, 0.7, 0.7), (1, 0.7, 0.7)],\n",
    "     'blue': [(0, 0.7, 0.7), (1, 1, 1)]})\n",
    "plt.cm.register_cmap(cmap=cmap)"
   ]
  },
  {
   "cell_type": "code",
   "execution_count": 3,
   "metadata": {
    "id": "cmLC9M6oW2v8"
   },
   "outputs": [],
   "source": [
    "wine = load_wine()"
   ]
  },
  {
   "cell_type": "code",
   "execution_count": 4,
   "metadata": {
    "colab": {
     "base_uri": "https://localhost:8080/",
     "height": 1000
    },
    "id": "7eptbMYNvq0S",
    "outputId": "84d1fd28-1a3a-4f31-be7a-3312114bdafb"
   },
   "outputs": [
    {
     "name": "stdout",
     "output_type": "stream",
     "text": [
      ".. _wine_dataset:\n",
      "\n",
      "Wine recognition dataset\n",
      "------------------------\n",
      "\n",
      "**Data Set Characteristics:**\n",
      "\n",
      "    :Number of Instances: 178 (50 in each of three classes)\n",
      "    :Number of Attributes: 13 numeric, predictive attributes and the class\n",
      "    :Attribute Information:\n",
      " \t\t- Alcohol\n",
      " \t\t- Malic acid\n",
      " \t\t- Ash\n",
      "\t\t- Alcalinity of ash  \n",
      " \t\t- Magnesium\n",
      "\t\t- Total phenols\n",
      " \t\t- Flavanoids\n",
      " \t\t- Nonflavanoid phenols\n",
      " \t\t- Proanthocyanins\n",
      "\t\t- Color intensity\n",
      " \t\t- Hue\n",
      " \t\t- OD280/OD315 of diluted wines\n",
      " \t\t- Proline\n",
      "\n",
      "    - class:\n",
      "            - class_0\n",
      "            - class_1\n",
      "            - class_2\n",
      "\t\t\n",
      "    :Summary Statistics:\n",
      "    \n",
      "    ============================= ==== ===== ======= =====\n",
      "                                   Min   Max   Mean     SD\n",
      "    ============================= ==== ===== ======= =====\n",
      "    Alcohol:                      11.0  14.8    13.0   0.8\n",
      "    Malic Acid:                   0.74  5.80    2.34  1.12\n",
      "    Ash:                          1.36  3.23    2.36  0.27\n",
      "    Alcalinity of Ash:            10.6  30.0    19.5   3.3\n",
      "    Magnesium:                    70.0 162.0    99.7  14.3\n",
      "    Total Phenols:                0.98  3.88    2.29  0.63\n",
      "    Flavanoids:                   0.34  5.08    2.03  1.00\n",
      "    Nonflavanoid Phenols:         0.13  0.66    0.36  0.12\n",
      "    Proanthocyanins:              0.41  3.58    1.59  0.57\n",
      "    Colour Intensity:              1.3  13.0     5.1   2.3\n",
      "    Hue:                          0.48  1.71    0.96  0.23\n",
      "    OD280/OD315 of diluted wines: 1.27  4.00    2.61  0.71\n",
      "    Proline:                       278  1680     746   315\n",
      "    ============================= ==== ===== ======= =====\n",
      "\n",
      "    :Missing Attribute Values: None\n",
      "    :Class Distribution: class_0 (59), class_1 (71), class_2 (48)\n",
      "    :Creator: R.A. Fisher\n",
      "    :Donor: Michael Marshall (MARSHALL%PLU@io.arc.nasa.gov)\n",
      "    :Date: July, 1988\n",
      "\n",
      "This is a copy of UCI ML Wine recognition datasets.\n",
      "https://archive.ics.uci.edu/ml/machine-learning-databases/wine/wine.data\n",
      "\n",
      "The data is the results of a chemical analysis of wines grown in the same\n",
      "region in Italy by three different cultivators. There are thirteen different\n",
      "measurements taken for different constituents found in the three types of\n",
      "wine.\n",
      "\n",
      "Original Owners: \n",
      "\n",
      "Forina, M. et al, PARVUS - \n",
      "An Extendible Package for Data Exploration, Classification and Correlation. \n",
      "Institute of Pharmaceutical and Food Analysis and Technologies,\n",
      "Via Brigata Salerno, 16147 Genoa, Italy.\n",
      "\n",
      "Citation:\n",
      "\n",
      "Lichman, M. (2013). UCI Machine Learning Repository\n",
      "[https://archive.ics.uci.edu/ml]. Irvine, CA: University of California,\n",
      "School of Information and Computer Science. \n",
      "\n",
      ".. topic:: References\n",
      "\n",
      "  (1) S. Aeberhard, D. Coomans and O. de Vel, \n",
      "  Comparison of Classifiers in High Dimensional Settings, \n",
      "  Tech. Rep. no. 92-02, (1992), Dept. of Computer Science and Dept. of  \n",
      "  Mathematics and Statistics, James Cook University of North Queensland. \n",
      "  (Also submitted to Technometrics). \n",
      "\n",
      "  The data was used with many others for comparing various \n",
      "  classifiers. The classes are separable, though only RDA \n",
      "  has achieved 100% correct classification. \n",
      "  (RDA : 100%, QDA 99.4%, LDA 98.9%, 1NN 96.1% (z-transformed data)) \n",
      "  (All results using the leave-one-out technique) \n",
      "\n",
      "  (2) S. Aeberhard, D. Coomans and O. de Vel, \n",
      "  \"THE CLASSIFICATION PERFORMANCE OF RDA\" \n",
      "  Tech. Rep. no. 92-01, (1992), Dept. of Computer Science and Dept. of \n",
      "  Mathematics and Statistics, James Cook University of North Queensland. \n",
      "  (Also submitted to Journal of Chemometrics).\n",
      "\n"
     ]
    }
   ],
   "source": [
    "print(wine.DESCR)"
   ]
  },
  {
   "cell_type": "code",
   "execution_count": 5,
   "metadata": {
    "id": "7rO21IhnvyIo"
   },
   "outputs": [],
   "source": [
    "# загружаем данные в датафрейм\n",
    "data = pd.DataFrame(wine.data, columns=wine.feature_names)\n",
    "data_class = wine.target"
   ]
  },
  {
   "cell_type": "code",
   "execution_count": 6,
   "metadata": {
    "colab": {
     "base_uri": "https://localhost:8080/",
     "height": 447
    },
    "id": "M92y_fa2wBjn",
    "outputId": "b0f66858-8650-4d65-a29f-b136d4f3612f"
   },
   "outputs": [
    {
     "data": {
      "text/html": [
       "<div>\n",
       "<style scoped>\n",
       "    .dataframe tbody tr th:only-of-type {\n",
       "        vertical-align: middle;\n",
       "    }\n",
       "\n",
       "    .dataframe tbody tr th {\n",
       "        vertical-align: top;\n",
       "    }\n",
       "\n",
       "    .dataframe thead th {\n",
       "        text-align: right;\n",
       "    }\n",
       "</style>\n",
       "<table border=\"1\" class=\"dataframe\">\n",
       "  <thead>\n",
       "    <tr style=\"text-align: right;\">\n",
       "      <th></th>\n",
       "      <th>alcohol</th>\n",
       "      <th>malic_acid</th>\n",
       "      <th>ash</th>\n",
       "      <th>alcalinity_of_ash</th>\n",
       "      <th>magnesium</th>\n",
       "      <th>total_phenols</th>\n",
       "      <th>flavanoids</th>\n",
       "      <th>nonflavanoid_phenols</th>\n",
       "      <th>proanthocyanins</th>\n",
       "      <th>color_intensity</th>\n",
       "      <th>hue</th>\n",
       "      <th>od280/od315_of_diluted_wines</th>\n",
       "      <th>proline</th>\n",
       "    </tr>\n",
       "  </thead>\n",
       "  <tbody>\n",
       "    <tr>\n",
       "      <th>0</th>\n",
       "      <td>14.23</td>\n",
       "      <td>1.71</td>\n",
       "      <td>2.43</td>\n",
       "      <td>15.6</td>\n",
       "      <td>127.0</td>\n",
       "      <td>2.80</td>\n",
       "      <td>3.06</td>\n",
       "      <td>0.28</td>\n",
       "      <td>2.29</td>\n",
       "      <td>5.64</td>\n",
       "      <td>1.04</td>\n",
       "      <td>3.92</td>\n",
       "      <td>1065.0</td>\n",
       "    </tr>\n",
       "    <tr>\n",
       "      <th>1</th>\n",
       "      <td>13.20</td>\n",
       "      <td>1.78</td>\n",
       "      <td>2.14</td>\n",
       "      <td>11.2</td>\n",
       "      <td>100.0</td>\n",
       "      <td>2.65</td>\n",
       "      <td>2.76</td>\n",
       "      <td>0.26</td>\n",
       "      <td>1.28</td>\n",
       "      <td>4.38</td>\n",
       "      <td>1.05</td>\n",
       "      <td>3.40</td>\n",
       "      <td>1050.0</td>\n",
       "    </tr>\n",
       "    <tr>\n",
       "      <th>2</th>\n",
       "      <td>13.16</td>\n",
       "      <td>2.36</td>\n",
       "      <td>2.67</td>\n",
       "      <td>18.6</td>\n",
       "      <td>101.0</td>\n",
       "      <td>2.80</td>\n",
       "      <td>3.24</td>\n",
       "      <td>0.30</td>\n",
       "      <td>2.81</td>\n",
       "      <td>5.68</td>\n",
       "      <td>1.03</td>\n",
       "      <td>3.17</td>\n",
       "      <td>1185.0</td>\n",
       "    </tr>\n",
       "    <tr>\n",
       "      <th>3</th>\n",
       "      <td>14.37</td>\n",
       "      <td>1.95</td>\n",
       "      <td>2.50</td>\n",
       "      <td>16.8</td>\n",
       "      <td>113.0</td>\n",
       "      <td>3.85</td>\n",
       "      <td>3.49</td>\n",
       "      <td>0.24</td>\n",
       "      <td>2.18</td>\n",
       "      <td>7.80</td>\n",
       "      <td>0.86</td>\n",
       "      <td>3.45</td>\n",
       "      <td>1480.0</td>\n",
       "    </tr>\n",
       "    <tr>\n",
       "      <th>4</th>\n",
       "      <td>13.24</td>\n",
       "      <td>2.59</td>\n",
       "      <td>2.87</td>\n",
       "      <td>21.0</td>\n",
       "      <td>118.0</td>\n",
       "      <td>2.80</td>\n",
       "      <td>2.69</td>\n",
       "      <td>0.39</td>\n",
       "      <td>1.82</td>\n",
       "      <td>4.32</td>\n",
       "      <td>1.04</td>\n",
       "      <td>2.93</td>\n",
       "      <td>735.0</td>\n",
       "    </tr>\n",
       "    <tr>\n",
       "      <th>...</th>\n",
       "      <td>...</td>\n",
       "      <td>...</td>\n",
       "      <td>...</td>\n",
       "      <td>...</td>\n",
       "      <td>...</td>\n",
       "      <td>...</td>\n",
       "      <td>...</td>\n",
       "      <td>...</td>\n",
       "      <td>...</td>\n",
       "      <td>...</td>\n",
       "      <td>...</td>\n",
       "      <td>...</td>\n",
       "      <td>...</td>\n",
       "    </tr>\n",
       "    <tr>\n",
       "      <th>173</th>\n",
       "      <td>13.71</td>\n",
       "      <td>5.65</td>\n",
       "      <td>2.45</td>\n",
       "      <td>20.5</td>\n",
       "      <td>95.0</td>\n",
       "      <td>1.68</td>\n",
       "      <td>0.61</td>\n",
       "      <td>0.52</td>\n",
       "      <td>1.06</td>\n",
       "      <td>7.70</td>\n",
       "      <td>0.64</td>\n",
       "      <td>1.74</td>\n",
       "      <td>740.0</td>\n",
       "    </tr>\n",
       "    <tr>\n",
       "      <th>174</th>\n",
       "      <td>13.40</td>\n",
       "      <td>3.91</td>\n",
       "      <td>2.48</td>\n",
       "      <td>23.0</td>\n",
       "      <td>102.0</td>\n",
       "      <td>1.80</td>\n",
       "      <td>0.75</td>\n",
       "      <td>0.43</td>\n",
       "      <td>1.41</td>\n",
       "      <td>7.30</td>\n",
       "      <td>0.70</td>\n",
       "      <td>1.56</td>\n",
       "      <td>750.0</td>\n",
       "    </tr>\n",
       "    <tr>\n",
       "      <th>175</th>\n",
       "      <td>13.27</td>\n",
       "      <td>4.28</td>\n",
       "      <td>2.26</td>\n",
       "      <td>20.0</td>\n",
       "      <td>120.0</td>\n",
       "      <td>1.59</td>\n",
       "      <td>0.69</td>\n",
       "      <td>0.43</td>\n",
       "      <td>1.35</td>\n",
       "      <td>10.20</td>\n",
       "      <td>0.59</td>\n",
       "      <td>1.56</td>\n",
       "      <td>835.0</td>\n",
       "    </tr>\n",
       "    <tr>\n",
       "      <th>176</th>\n",
       "      <td>13.17</td>\n",
       "      <td>2.59</td>\n",
       "      <td>2.37</td>\n",
       "      <td>20.0</td>\n",
       "      <td>120.0</td>\n",
       "      <td>1.65</td>\n",
       "      <td>0.68</td>\n",
       "      <td>0.53</td>\n",
       "      <td>1.46</td>\n",
       "      <td>9.30</td>\n",
       "      <td>0.60</td>\n",
       "      <td>1.62</td>\n",
       "      <td>840.0</td>\n",
       "    </tr>\n",
       "    <tr>\n",
       "      <th>177</th>\n",
       "      <td>14.13</td>\n",
       "      <td>4.10</td>\n",
       "      <td>2.74</td>\n",
       "      <td>24.5</td>\n",
       "      <td>96.0</td>\n",
       "      <td>2.05</td>\n",
       "      <td>0.76</td>\n",
       "      <td>0.56</td>\n",
       "      <td>1.35</td>\n",
       "      <td>9.20</td>\n",
       "      <td>0.61</td>\n",
       "      <td>1.60</td>\n",
       "      <td>560.0</td>\n",
       "    </tr>\n",
       "  </tbody>\n",
       "</table>\n",
       "<p>178 rows × 13 columns</p>\n",
       "</div>"
      ],
      "text/plain": [
       "     alcohol  malic_acid   ash  alcalinity_of_ash  magnesium  total_phenols  \\\n",
       "0      14.23        1.71  2.43               15.6      127.0           2.80   \n",
       "1      13.20        1.78  2.14               11.2      100.0           2.65   \n",
       "2      13.16        2.36  2.67               18.6      101.0           2.80   \n",
       "3      14.37        1.95  2.50               16.8      113.0           3.85   \n",
       "4      13.24        2.59  2.87               21.0      118.0           2.80   \n",
       "..       ...         ...   ...                ...        ...            ...   \n",
       "173    13.71        5.65  2.45               20.5       95.0           1.68   \n",
       "174    13.40        3.91  2.48               23.0      102.0           1.80   \n",
       "175    13.27        4.28  2.26               20.0      120.0           1.59   \n",
       "176    13.17        2.59  2.37               20.0      120.0           1.65   \n",
       "177    14.13        4.10  2.74               24.5       96.0           2.05   \n",
       "\n",
       "     flavanoids  nonflavanoid_phenols  proanthocyanins  color_intensity   hue  \\\n",
       "0          3.06                  0.28             2.29             5.64  1.04   \n",
       "1          2.76                  0.26             1.28             4.38  1.05   \n",
       "2          3.24                  0.30             2.81             5.68  1.03   \n",
       "3          3.49                  0.24             2.18             7.80  0.86   \n",
       "4          2.69                  0.39             1.82             4.32  1.04   \n",
       "..          ...                   ...              ...              ...   ...   \n",
       "173        0.61                  0.52             1.06             7.70  0.64   \n",
       "174        0.75                  0.43             1.41             7.30  0.70   \n",
       "175        0.69                  0.43             1.35            10.20  0.59   \n",
       "176        0.68                  0.53             1.46             9.30  0.60   \n",
       "177        0.76                  0.56             1.35             9.20  0.61   \n",
       "\n",
       "     od280/od315_of_diluted_wines  proline  \n",
       "0                            3.92   1065.0  \n",
       "1                            3.40   1050.0  \n",
       "2                            3.17   1185.0  \n",
       "3                            3.45   1480.0  \n",
       "4                            2.93    735.0  \n",
       "..                            ...      ...  \n",
       "173                          1.74    740.0  \n",
       "174                          1.56    750.0  \n",
       "175                          1.56    835.0  \n",
       "176                          1.62    840.0  \n",
       "177                          1.60    560.0  \n",
       "\n",
       "[178 rows x 13 columns]"
      ]
     },
     "execution_count": 6,
     "metadata": {},
     "output_type": "execute_result"
    }
   ],
   "source": [
    "data"
   ]
  },
  {
   "cell_type": "code",
   "execution_count": 7,
   "metadata": {},
   "outputs": [
    {
     "data": {
      "text/plain": [
       "array([0, 0, 0, 0, 0, 0, 0, 0, 0, 0, 0, 0, 0, 0, 0, 0, 0, 0, 0, 0, 0, 0,\n",
       "       0, 0, 0, 0, 0, 0, 0, 0, 0, 0, 0, 0, 0, 0, 0, 0, 0, 0, 0, 0, 0, 0,\n",
       "       0, 0, 0, 0, 0, 0, 0, 0, 0, 0, 0, 0, 0, 0, 0, 1, 1, 1, 1, 1, 1, 1,\n",
       "       1, 1, 1, 1, 1, 1, 1, 1, 1, 1, 1, 1, 1, 1, 1, 1, 1, 1, 1, 1, 1, 1,\n",
       "       1, 1, 1, 1, 1, 1, 1, 1, 1, 1, 1, 1, 1, 1, 1, 1, 1, 1, 1, 1, 1, 1,\n",
       "       1, 1, 1, 1, 1, 1, 1, 1, 1, 1, 1, 1, 1, 1, 1, 1, 1, 1, 1, 1, 2, 2,\n",
       "       2, 2, 2, 2, 2, 2, 2, 2, 2, 2, 2, 2, 2, 2, 2, 2, 2, 2, 2, 2, 2, 2,\n",
       "       2, 2, 2, 2, 2, 2, 2, 2, 2, 2, 2, 2, 2, 2, 2, 2, 2, 2, 2, 2, 2, 2,\n",
       "       2, 2])"
      ]
     },
     "execution_count": 7,
     "metadata": {},
     "output_type": "execute_result"
    }
   ],
   "source": [
    "data_class"
   ]
  },
  {
   "cell_type": "code",
   "execution_count": 8,
   "metadata": {
    "id": "lFjqjX-iwCaW"
   },
   "outputs": [],
   "source": [
    "# разделяем выборку на тренировочную и тестовую\n",
    "from sklearn.model_selection import train_test_split\n",
    "X_train, X_test, y_train, y_test = train_test_split(data, data_class, test_size=0.25)"
   ]
  },
  {
   "cell_type": "code",
   "execution_count": 9,
   "metadata": {},
   "outputs": [
    {
     "data": {
      "text/plain": [
       "45"
      ]
     },
     "execution_count": 9,
     "metadata": {},
     "output_type": "execute_result"
    }
   ],
   "source": [
    "len(y_test)"
   ]
  },
  {
   "cell_type": "code",
   "execution_count": 10,
   "metadata": {
    "id": "6HINhvLtwdZT"
   },
   "outputs": [],
   "source": [
    "# импортируем LDA-функционал\n",
    "from sklearn.discriminant_analysis import LinearDiscriminantAnalysis"
   ]
  },
  {
   "cell_type": "code",
   "execution_count": 11,
   "metadata": {
    "id": "0Us8oVotwku1"
   },
   "outputs": [],
   "source": [
    "lda = LinearDiscriminantAnalysis()"
   ]
  },
  {
   "cell_type": "code",
   "execution_count": 12,
   "metadata": {
    "colab": {
     "base_uri": "https://localhost:8080/",
     "height": 72
    },
    "id": "h5Ufc5sjwnZ3",
    "outputId": "7d6c7182-8c84-4a03-f784-e32307ab0270"
   },
   "outputs": [
    {
     "data": {
      "text/plain": [
       "LinearDiscriminantAnalysis()"
      ]
     },
     "execution_count": 12,
     "metadata": {},
     "output_type": "execute_result"
    }
   ],
   "source": [
    "# обучаем данные\n",
    "lda.fit(X_train, y_train)"
   ]
  },
  {
   "cell_type": "code",
   "execution_count": 13,
   "metadata": {
    "colab": {
     "base_uri": "https://localhost:8080/",
     "height": 72
    },
    "id": "bcZ3H-T1xSWu",
    "outputId": "b2e22b45-347b-4270-a543-63b2a9ce6378"
   },
   "outputs": [
    {
     "data": {
      "text/plain": [
       "array([2, 0, 0, 0, 0, 2, 1, 0, 2, 1, 2, 2, 0, 0, 1, 2, 2, 0, 0, 1, 0, 0,\n",
       "       0, 1, 1, 1, 0, 0, 1, 2, 0, 0, 0, 0, 2, 0, 2, 2, 1, 1, 1, 1, 2, 1,\n",
       "       0])"
      ]
     },
     "execution_count": 13,
     "metadata": {},
     "output_type": "execute_result"
    }
   ],
   "source": [
    "# делаем прогноз на тестовой выборке\n",
    "lda.predict(X_test)"
   ]
  },
  {
   "cell_type": "code",
   "execution_count": 14,
   "metadata": {
    "id": "9wGodM6OxUds"
   },
   "outputs": [],
   "source": [
    "# смотрим разницу факта и прогноза\n",
    "result = pd.DataFrame([y_test, lda.predict(X_test)]).T"
   ]
  },
  {
   "cell_type": "code",
   "execution_count": 15,
   "metadata": {
    "colab": {
     "base_uri": "https://localhost:8080/",
     "height": 1000
    },
    "id": "RK4zDP6ZxaXI",
    "outputId": "f0c457bc-4f96-47f8-fa00-0ecb66d4e555"
   },
   "outputs": [
    {
     "data": {
      "text/html": [
       "<div>\n",
       "<style scoped>\n",
       "    .dataframe tbody tr th:only-of-type {\n",
       "        vertical-align: middle;\n",
       "    }\n",
       "\n",
       "    .dataframe tbody tr th {\n",
       "        vertical-align: top;\n",
       "    }\n",
       "\n",
       "    .dataframe thead th {\n",
       "        text-align: right;\n",
       "    }\n",
       "</style>\n",
       "<table border=\"1\" class=\"dataframe\">\n",
       "  <thead>\n",
       "    <tr style=\"text-align: right;\">\n",
       "      <th></th>\n",
       "      <th>0</th>\n",
       "      <th>1</th>\n",
       "    </tr>\n",
       "  </thead>\n",
       "  <tbody>\n",
       "    <tr>\n",
       "      <th>0</th>\n",
       "      <td>2</td>\n",
       "      <td>2</td>\n",
       "    </tr>\n",
       "    <tr>\n",
       "      <th>1</th>\n",
       "      <td>0</td>\n",
       "      <td>0</td>\n",
       "    </tr>\n",
       "    <tr>\n",
       "      <th>2</th>\n",
       "      <td>0</td>\n",
       "      <td>0</td>\n",
       "    </tr>\n",
       "    <tr>\n",
       "      <th>3</th>\n",
       "      <td>0</td>\n",
       "      <td>0</td>\n",
       "    </tr>\n",
       "    <tr>\n",
       "      <th>4</th>\n",
       "      <td>0</td>\n",
       "      <td>0</td>\n",
       "    </tr>\n",
       "    <tr>\n",
       "      <th>5</th>\n",
       "      <td>2</td>\n",
       "      <td>2</td>\n",
       "    </tr>\n",
       "    <tr>\n",
       "      <th>6</th>\n",
       "      <td>1</td>\n",
       "      <td>1</td>\n",
       "    </tr>\n",
       "    <tr>\n",
       "      <th>7</th>\n",
       "      <td>0</td>\n",
       "      <td>0</td>\n",
       "    </tr>\n",
       "    <tr>\n",
       "      <th>8</th>\n",
       "      <td>2</td>\n",
       "      <td>2</td>\n",
       "    </tr>\n",
       "    <tr>\n",
       "      <th>9</th>\n",
       "      <td>1</td>\n",
       "      <td>1</td>\n",
       "    </tr>\n",
       "    <tr>\n",
       "      <th>10</th>\n",
       "      <td>2</td>\n",
       "      <td>2</td>\n",
       "    </tr>\n",
       "    <tr>\n",
       "      <th>11</th>\n",
       "      <td>2</td>\n",
       "      <td>2</td>\n",
       "    </tr>\n",
       "    <tr>\n",
       "      <th>12</th>\n",
       "      <td>0</td>\n",
       "      <td>0</td>\n",
       "    </tr>\n",
       "    <tr>\n",
       "      <th>13</th>\n",
       "      <td>0</td>\n",
       "      <td>0</td>\n",
       "    </tr>\n",
       "    <tr>\n",
       "      <th>14</th>\n",
       "      <td>1</td>\n",
       "      <td>1</td>\n",
       "    </tr>\n",
       "    <tr>\n",
       "      <th>15</th>\n",
       "      <td>2</td>\n",
       "      <td>2</td>\n",
       "    </tr>\n",
       "    <tr>\n",
       "      <th>16</th>\n",
       "      <td>2</td>\n",
       "      <td>2</td>\n",
       "    </tr>\n",
       "    <tr>\n",
       "      <th>17</th>\n",
       "      <td>0</td>\n",
       "      <td>0</td>\n",
       "    </tr>\n",
       "    <tr>\n",
       "      <th>18</th>\n",
       "      <td>0</td>\n",
       "      <td>0</td>\n",
       "    </tr>\n",
       "    <tr>\n",
       "      <th>19</th>\n",
       "      <td>1</td>\n",
       "      <td>1</td>\n",
       "    </tr>\n",
       "    <tr>\n",
       "      <th>20</th>\n",
       "      <td>0</td>\n",
       "      <td>0</td>\n",
       "    </tr>\n",
       "    <tr>\n",
       "      <th>21</th>\n",
       "      <td>0</td>\n",
       "      <td>0</td>\n",
       "    </tr>\n",
       "    <tr>\n",
       "      <th>22</th>\n",
       "      <td>0</td>\n",
       "      <td>0</td>\n",
       "    </tr>\n",
       "    <tr>\n",
       "      <th>23</th>\n",
       "      <td>0</td>\n",
       "      <td>1</td>\n",
       "    </tr>\n",
       "    <tr>\n",
       "      <th>24</th>\n",
       "      <td>1</td>\n",
       "      <td>1</td>\n",
       "    </tr>\n",
       "    <tr>\n",
       "      <th>25</th>\n",
       "      <td>1</td>\n",
       "      <td>1</td>\n",
       "    </tr>\n",
       "    <tr>\n",
       "      <th>26</th>\n",
       "      <td>0</td>\n",
       "      <td>0</td>\n",
       "    </tr>\n",
       "    <tr>\n",
       "      <th>27</th>\n",
       "      <td>0</td>\n",
       "      <td>0</td>\n",
       "    </tr>\n",
       "    <tr>\n",
       "      <th>28</th>\n",
       "      <td>1</td>\n",
       "      <td>1</td>\n",
       "    </tr>\n",
       "    <tr>\n",
       "      <th>29</th>\n",
       "      <td>2</td>\n",
       "      <td>2</td>\n",
       "    </tr>\n",
       "    <tr>\n",
       "      <th>30</th>\n",
       "      <td>0</td>\n",
       "      <td>0</td>\n",
       "    </tr>\n",
       "    <tr>\n",
       "      <th>31</th>\n",
       "      <td>0</td>\n",
       "      <td>0</td>\n",
       "    </tr>\n",
       "    <tr>\n",
       "      <th>32</th>\n",
       "      <td>0</td>\n",
       "      <td>0</td>\n",
       "    </tr>\n",
       "    <tr>\n",
       "      <th>33</th>\n",
       "      <td>0</td>\n",
       "      <td>0</td>\n",
       "    </tr>\n",
       "    <tr>\n",
       "      <th>34</th>\n",
       "      <td>2</td>\n",
       "      <td>2</td>\n",
       "    </tr>\n",
       "    <tr>\n",
       "      <th>35</th>\n",
       "      <td>0</td>\n",
       "      <td>0</td>\n",
       "    </tr>\n",
       "    <tr>\n",
       "      <th>36</th>\n",
       "      <td>2</td>\n",
       "      <td>2</td>\n",
       "    </tr>\n",
       "    <tr>\n",
       "      <th>37</th>\n",
       "      <td>2</td>\n",
       "      <td>2</td>\n",
       "    </tr>\n",
       "    <tr>\n",
       "      <th>38</th>\n",
       "      <td>1</td>\n",
       "      <td>1</td>\n",
       "    </tr>\n",
       "    <tr>\n",
       "      <th>39</th>\n",
       "      <td>2</td>\n",
       "      <td>1</td>\n",
       "    </tr>\n",
       "    <tr>\n",
       "      <th>40</th>\n",
       "      <td>1</td>\n",
       "      <td>1</td>\n",
       "    </tr>\n",
       "    <tr>\n",
       "      <th>41</th>\n",
       "      <td>1</td>\n",
       "      <td>1</td>\n",
       "    </tr>\n",
       "    <tr>\n",
       "      <th>42</th>\n",
       "      <td>2</td>\n",
       "      <td>2</td>\n",
       "    </tr>\n",
       "    <tr>\n",
       "      <th>43</th>\n",
       "      <td>1</td>\n",
       "      <td>1</td>\n",
       "    </tr>\n",
       "    <tr>\n",
       "      <th>44</th>\n",
       "      <td>0</td>\n",
       "      <td>0</td>\n",
       "    </tr>\n",
       "  </tbody>\n",
       "</table>\n",
       "</div>"
      ],
      "text/plain": [
       "    0  1\n",
       "0   2  2\n",
       "1   0  0\n",
       "2   0  0\n",
       "3   0  0\n",
       "4   0  0\n",
       "5   2  2\n",
       "6   1  1\n",
       "7   0  0\n",
       "8   2  2\n",
       "9   1  1\n",
       "10  2  2\n",
       "11  2  2\n",
       "12  0  0\n",
       "13  0  0\n",
       "14  1  1\n",
       "15  2  2\n",
       "16  2  2\n",
       "17  0  0\n",
       "18  0  0\n",
       "19  1  1\n",
       "20  0  0\n",
       "21  0  0\n",
       "22  0  0\n",
       "23  0  1\n",
       "24  1  1\n",
       "25  1  1\n",
       "26  0  0\n",
       "27  0  0\n",
       "28  1  1\n",
       "29  2  2\n",
       "30  0  0\n",
       "31  0  0\n",
       "32  0  0\n",
       "33  0  0\n",
       "34  2  2\n",
       "35  0  0\n",
       "36  2  2\n",
       "37  2  2\n",
       "38  1  1\n",
       "39  2  1\n",
       "40  1  1\n",
       "41  1  1\n",
       "42  2  2\n",
       "43  1  1\n",
       "44  0  0"
      ]
     },
     "execution_count": 15,
     "metadata": {},
     "output_type": "execute_result"
    }
   ],
   "source": [
    "result"
   ]
  },
  {
   "cell_type": "code",
   "execution_count": 16,
   "metadata": {
    "id": "B66nVhbk2Mf1"
   },
   "outputs": [],
   "source": [
    "# расчет точности - отношение верных прогнозов к общему количеству позиций\n",
    "# является хорошей метрикой для сбалансированных классов \n",
    "# (наблюдений в категориях примерно одинаковое количество)\n",
    "\n",
    "from sklearn.metrics import accuracy_score"
   ]
  },
  {
   "cell_type": "code",
   "execution_count": 17,
   "metadata": {
    "colab": {
     "base_uri": "https://localhost:8080/",
     "height": 55
    },
    "id": "2x5pYOZB2P2F",
    "outputId": "3ce07925-4c20-4911-dd19-12f48aead815"
   },
   "outputs": [
    {
     "data": {
      "text/plain": [
       "0.9555555555555556"
      ]
     },
     "execution_count": 17,
     "metadata": {},
     "output_type": "execute_result"
    }
   ],
   "source": [
    "accuracy_score(y_test, lda.predict(X_test))"
   ]
  },
  {
   "cell_type": "code",
   "execution_count": 18,
   "metadata": {
    "colab": {
     "base_uri": "https://localhost:8080/",
     "height": 301
    },
    "id": "aBdqgd5ixdMh",
    "outputId": "4c410bf2-a27b-41be-9c95-c330a849f028"
   },
   "outputs": [
    {
     "data": {
      "text/plain": [
       "array([[ 3.56989802e+00, -1.09166322e-01,  8.91800272e+00,\n",
       "        -9.65889105e-01, -1.19889789e-02, -3.14296735e+00,\n",
       "         5.51157748e+00,  5.79378836e-01, -1.17711987e+00,\n",
       "        -7.21324644e-01,  4.80811294e+00,  3.86551906e+00,\n",
       "         1.63181281e-02],\n",
       "       [-2.08827647e+00, -7.44163341e-01, -5.41025341e+00,\n",
       "         3.35412445e-01,  1.19147613e-02, -2.66110038e-01,\n",
       "         1.65702441e+00,  8.39399446e-01,  3.32061676e-01,\n",
       "        -8.02205025e-01,  1.79781612e+00, -4.80905649e-01,\n",
       "        -5.70735443e-03],\n",
       "       [-2.95986763e-01,  1.39423202e+00, -4.07682828e-01,\n",
       "         4.73686838e-01, -7.40869942e-03,  3.86855319e+00,\n",
       "        -8.82461167e+00, -2.06801036e+00,  7.08767270e-01,\n",
       "         2.15836109e+00, -8.30220740e+00, -3.37243958e+00,\n",
       "        -7.93278860e-03]])"
      ]
     },
     "execution_count": 18,
     "metadata": {},
     "output_type": "execute_result"
    }
   ],
   "source": [
    "# коэффициенты дискриминатных линий\n",
    "lda.coef_"
   ]
  },
  {
   "cell_type": "code",
   "execution_count": 19,
   "metadata": {
    "colab": {
     "base_uri": "https://localhost:8080/",
     "height": 285
    },
    "id": "6fWjKgl4yLHO",
    "outputId": "a7b211e3-4835-4864-af20-fc0c5c458d1c"
   },
   "outputs": [
    {
     "data": {
      "image/png": "[encoded data removed]",
      "text/plain": [
       "<Figure size 432x288 with 1 Axes>"
      ]
     },
     "metadata": {
      "needs_background": "light"
     },
     "output_type": "display_data"
    }
   ],
   "source": [
    "# визуализируем дискриминантную линию только по 2 признакам\n",
    "plt.scatter(X_train['ash'], X_train['flavanoids'], c=y_train)\n",
    "plt.show()"
   ]
  },
  {
   "cell_type": "code",
   "execution_count": 20,
   "metadata": {
    "id": "KFSam-cJzCOG"
   },
   "outputs": [],
   "source": [
    "small_train = X_train[(y_train == 0) | (y_train == 2)]\n",
    "small_train = small_train[['ash', 'flavanoids']]\n",
    "sy_train = y_train[(y_train == 0) | (y_train == 2)]\n",
    "small_test = X_test[(y_test == 0) | (y_test == 2)]\n",
    "small_test = small_test[['ash', 'flavanoids']]\n",
    "sy_test = y_test[(y_test == 0) | (y_test == 2)]"
   ]
  },
  {
   "cell_type": "code",
   "execution_count": 21,
   "metadata": {
    "colab": {
     "base_uri": "https://localhost:8080/",
     "height": 285
    },
    "id": "SX47KNgXySEU",
    "outputId": "164c922b-8b95-4e89-8687-d3208ed3c20a"
   },
   "outputs": [
    {
     "data": {
      "image/png": "[encoded data removed]",
      "text/plain": [
       "<Figure size 432x288 with 1 Axes>"
      ]
     },
     "metadata": {
      "needs_background": "light"
     },
     "output_type": "display_data"
    }
   ],
   "source": [
    "plt.scatter(small_train['ash'], small_train['flavanoids'], c=sy_train)\n",
    "plt.show()"
   ]
  },
  {
   "cell_type": "code",
   "execution_count": 22,
   "metadata": {
    "colab": {
     "base_uri": "https://localhost:8080/",
     "height": 72
    },
    "id": "jzWXDuY7y453",
    "outputId": "a364ac48-a533-407e-c774-26c6342e77c6"
   },
   "outputs": [
    {
     "data": {
      "text/plain": [
       "LinearDiscriminantAnalysis()"
      ]
     },
     "execution_count": 22,
     "metadata": {},
     "output_type": "execute_result"
    }
   ],
   "source": [
    "lda_small = LinearDiscriminantAnalysis()\n",
    "lda_small.fit(small_train, sy_train)"
   ]
  },
  {
   "cell_type": "code",
   "execution_count": 23,
   "metadata": {
    "colab": {
     "base_uri": "https://localhost:8080/",
     "height": 72
    },
    "id": "MSo9yPBxzPYx",
    "outputId": "02ff0c93-cf22-46f4-8c40-e9be2dde039a"
   },
   "outputs": [
    {
     "data": {
      "text/plain": [
       "array([[2.47157895, 2.93894737],\n",
       "       [2.44314286, 0.74542857]])"
      ]
     },
     "execution_count": 23,
     "metadata": {},
     "output_type": "execute_result"
    }
   ],
   "source": [
    "# посмотрим на наши центроиды\n",
    "lda_small.means_"
   ]
  },
  {
   "cell_type": "code",
   "execution_count": 24,
   "metadata": {
    "colab": {
     "base_uri": "https://localhost:8080/",
     "height": 285
    },
    "id": "IrQb_JTwzREc",
    "outputId": "34e9bd73-e15c-494b-9f29-ad9584f1d217"
   },
   "outputs": [
    {
     "data": {
      "text/plain": [
       "<matplotlib.contour.QuadContourSet at 0x2bfd693cc10>"
      ]
     },
     "execution_count": 24,
     "metadata": {},
     "output_type": "execute_result"
    },
    {
     "data": {
      "image/png": "[encoded data removed]",
      "text/plain": [
       "<Figure size 432x288 with 1 Axes>"
      ]
     },
     "metadata": {
      "needs_background": "light"
     },
     "output_type": "display_data"
    }
   ],
   "source": [
    "# сам scatter plot\n",
    "plt.scatter(small_train['ash'], small_train['flavanoids'], c=sy_train)\n",
    "# центроиды\n",
    "plt.scatter(lda_small.means_[:, 0], lda_small.means_[:, 1], c='r', s=150, marker='*')\n",
    "\n",
    "# делаем условную \"сетку\"\n",
    "nx, ny = 200, 100\n",
    "x_min, x_max = plt.xlim()\n",
    "y_min, y_max = plt.ylim()\n",
    "xx, yy = np.meshgrid(np.linspace(x_min, x_max, nx),\n",
    "                         np.linspace(y_min, y_max, ny))\n",
    "\n",
    "# предсказываем класс каждой точки нашей сетки\n",
    "Z = lda_small.predict_proba(np.c_[xx.ravel(), yy.ravel()])\n",
    "Z = Z[:, 1].reshape(xx.shape)\n",
    "\n",
    "# закрашиваем классы разными цветами\n",
    "plt.pcolormesh(xx, yy, Z, cmap='red_blue_classes',\n",
    "                   norm=colors.Normalize(0., 1.), zorder=-1, shading='auto')\n",
    "\n",
    "# отделяем друг от друга\n",
    "plt.contour(xx, yy, Z, [0.5], linewidths=2., colors='white')"
   ]
  },
  {
   "cell_type": "code",
   "execution_count": 25,
   "metadata": {
    "colab": {
     "base_uri": "https://localhost:8080/",
     "height": 55
    },
    "id": "e4_nponj4X5a",
    "outputId": "8c6ea1c8-0f94-4ecd-9415-1c822846cdac"
   },
   "outputs": [
    {
     "data": {
      "text/plain": [
       "array([[  3.2342266 , -18.78333641]])"
      ]
     },
     "execution_count": 25,
     "metadata": {},
     "output_type": "execute_result"
    }
   ],
   "source": [
    "# второй признак в 16 раз важнее первого для кластеризации (это видно по визуализации)\n",
    "lda_small.coef_"
   ]
  },
  {
   "cell_type": "code",
   "execution_count": 26,
   "metadata": {
    "colab": {
     "base_uri": "https://localhost:8080/",
     "height": 55
    },
    "id": "fDmV457H4kz_",
    "outputId": "ae9a089e-ff63-470d-c98f-0c326fa3f748"
   },
   "outputs": [
    {
     "data": {
      "text/plain": [
       "1.0"
      ]
     },
     "execution_count": 26,
     "metadata": {},
     "output_type": "execute_result"
    }
   ],
   "source": [
    "# какая будет точность?\n",
    "accuracy_score(sy_test, lda_small.predict(small_test))"
   ]
  },
  {
   "cell_type": "code",
   "execution_count": 27,
   "metadata": {},
   "outputs": [
    {
     "data": {
      "text/html": [
       "<div>\n",
       "<style scoped>\n",
       "    .dataframe tbody tr th:only-of-type {\n",
       "        vertical-align: middle;\n",
       "    }\n",
       "\n",
       "    .dataframe tbody tr th {\n",
       "        vertical-align: top;\n",
       "    }\n",
       "\n",
       "    .dataframe thead th {\n",
       "        text-align: right;\n",
       "    }\n",
       "</style>\n",
       "<table border=\"1\" class=\"dataframe\">\n",
       "  <thead>\n",
       "    <tr style=\"text-align: right;\">\n",
       "      <th></th>\n",
       "      <th>flavanoids</th>\n",
       "      <th>ash</th>\n",
       "    </tr>\n",
       "  </thead>\n",
       "  <tbody>\n",
       "    <tr>\n",
       "      <th>flavanoids</th>\n",
       "      <td>1.000000</td>\n",
       "      <td>0.115077</td>\n",
       "    </tr>\n",
       "    <tr>\n",
       "      <th>ash</th>\n",
       "      <td>0.115077</td>\n",
       "      <td>1.000000</td>\n",
       "    </tr>\n",
       "  </tbody>\n",
       "</table>\n",
       "</div>"
      ],
      "text/plain": [
       "            flavanoids       ash\n",
       "flavanoids    1.000000  0.115077\n",
       "ash           0.115077  1.000000"
      ]
     },
     "execution_count": 27,
     "metadata": {},
     "output_type": "execute_result"
    }
   ],
   "source": [
    "data[['flavanoids', 'ash']].corr()"
   ]
  },
  {
   "cell_type": "code",
   "execution_count": 28,
   "metadata": {
    "id": "E-gchIEJ4t2d"
   },
   "outputs": [],
   "source": [
    "# заменим модель на логистическую регресиию\n",
    "# кому интересно, отличия логистической регресссии от LDA: \n",
    "# https://www.introspective-mode.org/logistic-regression-or-discriminant-function-analysis/\n",
    "# Основные моменты:\n",
    "# LR может работать с категориальными признаками \n",
    "# зависимая переменная в LR подчиняется логистической функции (изменяется от 0 до 1) и непрерывна\n",
    "from sklearn.linear_model import LogisticRegression"
   ]
  },
  {
   "cell_type": "code",
   "execution_count": 29,
   "metadata": {
    "id": "R4NDgweF41cm"
   },
   "outputs": [],
   "source": [
    "lr = LogisticRegression()"
   ]
  },
  {
   "cell_type": "code",
   "execution_count": 30,
   "metadata": {
    "colab": {
     "base_uri": "https://localhost:8080/",
     "height": 125
    },
    "id": "badyR0Tj43nx",
    "outputId": "53b815eb-53be-458c-bd4a-c4d20a0b3245"
   },
   "outputs": [
    {
     "data": {
      "text/plain": [
       "LogisticRegression()"
      ]
     },
     "execution_count": 30,
     "metadata": {},
     "output_type": "execute_result"
    }
   ],
   "source": [
    "lr.fit(small_train, sy_train)"
   ]
  },
  {
   "cell_type": "code",
   "execution_count": 31,
   "metadata": {
    "colab": {
     "base_uri": "https://localhost:8080/",
     "height": 72
    },
    "id": "NfqW9uR9481f",
    "outputId": "467e1065-de9c-47c6-8b16-82ee17b54410"
   },
   "outputs": [
    {
     "data": {
      "text/plain": [
       "array([2, 0, 0, 0, 0, 2, 0, 2, 2, 2, 0, 0, 2, 2, 0, 0, 0, 0, 0, 0, 0, 0,\n",
       "       2, 0, 0, 0, 0, 2, 0, 2, 2, 2, 2, 0])"
      ]
     },
     "execution_count": 31,
     "metadata": {},
     "output_type": "execute_result"
    }
   ],
   "source": [
    "lr.predict(small_test)"
   ]
  },
  {
   "cell_type": "code",
   "execution_count": 32,
   "metadata": {
    "colab": {
     "base_uri": "https://localhost:8080/",
     "height": 55
    },
    "id": "qqFys9hT4_Eo",
    "outputId": "498814d0-6e8b-4943-fbea-044bd2392bd9"
   },
   "outputs": [
    {
     "data": {
      "text/plain": [
       "1.0"
      ]
     },
     "execution_count": 32,
     "metadata": {},
     "output_type": "execute_result"
    }
   ],
   "source": [
    "accuracy_score(sy_test, lr.predict(small_test))"
   ]
  },
  {
   "cell_type": "code",
   "execution_count": 33,
   "metadata": {
    "colab": {
     "base_uri": "https://localhost:8080/",
     "height": 55
    },
    "id": "1Ei0UlN55CZ_",
    "outputId": "73d548b4-a064-44bf-c925-0077561d60af"
   },
   "outputs": [
    {
     "data": {
      "text/plain": [
       "array([[ 0.13920754, -3.03492482]])"
      ]
     },
     "execution_count": 33,
     "metadata": {},
     "output_type": "execute_result"
    }
   ],
   "source": [
    "lr.coef_"
   ]
  },
  {
   "cell_type": "code",
   "execution_count": 34,
   "metadata": {
    "colab": {
     "base_uri": "https://localhost:8080/",
     "height": 285
    },
    "id": "eTw2FBQh5GKr",
    "outputId": "a6cdbf48-2fd6-4a27-fcaa-166352fb7c39"
   },
   "outputs": [
    {
     "data": {
      "image/png": "[encoded data removed]",
      "text/plain": [
       "<Figure size 432x288 with 1 Axes>"
      ]
     },
     "metadata": {
      "needs_background": "light"
     },
     "output_type": "display_data"
    }
   ],
   "source": [
    "plt.scatter(small_train['ash'], small_train['flavanoids'], c=sy_train)\n",
    "\n",
    "nx, ny = 200, 100\n",
    "x_min, x_max = plt.xlim()\n",
    "y_min, y_max = plt.ylim()\n",
    "xx, yy = np.meshgrid(np.linspace(x_min, x_max, nx),\n",
    "                         np.linspace(y_min, y_max, ny))\n",
    "Z = lr.predict_proba(np.c_[xx.ravel(), yy.ravel()])\n",
    "Z = Z[:, 1].reshape(xx.shape)\n",
    "plt.pcolormesh(xx, yy, Z, cmap='red_blue_classes',\n",
    "                   norm=colors.Normalize(0., 1.), zorder=-1, shading='auto')\n",
    "plt.contour(xx, yy, Z, [0.5], linewidths=2., colors='white')\n",
    "\n",
    "plt.show()"
   ]
  },
  {
   "cell_type": "markdown",
   "metadata": {
    "id": "UJefBk-e58kX"
   },
   "source": [
    "## Кластеризация"
   ]
  },
  {
   "cell_type": "code",
   "execution_count": 50,
   "metadata": {
    "id": "ZK-UchxSXREG"
   },
   "outputs": [],
   "source": [
    "# генерируем искусвтенные данные для примера\n",
    "from sklearn.datasets import make_moons, make_blobs"
   ]
  },
  {
   "cell_type": "code",
   "execution_count": 51,
   "metadata": {
    "id": "_NxdrQ7RXSF5"
   },
   "outputs": [],
   "source": [
    "# 200 точек с 2 центрами, СКО - 2.5\n",
    "X, y = make_blobs(n_samples=200, centers=2, cluster_std=2.5)"
   ]
  },
  {
   "cell_type": "code",
   "execution_count": 82,
   "metadata": {},
   "outputs": [
    {
     "data": {
      "text/plain": [
       "array([[-8.92543245e+00, -1.39132477e+00],\n",
       "       [-4.57215610e+00,  8.59659873e+00],\n",
       "       [-1.32916013e+01, -2.95039828e+00],\n",
       "       [-1.14064752e+01, -6.19788937e+00],\n",
       "       [-3.54767489e+00,  8.61472296e+00],\n",
       "       [ 1.31219093e+00,  8.28216825e+00],\n",
       "       [-4.13713770e-01,  8.10983250e+00],\n",
       "       [-1.64354919e+00,  7.76601170e+00],\n",
       "       [-3.78529940e-01,  7.46511520e+00],\n",
       "       [-1.58683259e+00,  1.11577533e+01],\n",
       "       [-8.67608809e+00,  1.60086533e-01],\n",
       "       [ 4.86882077e-01,  7.70400760e+00],\n",
       "       [-1.22395396e+01, -3.90015152e+00],\n",
       "       [-1.07701092e-02,  8.81729240e+00],\n",
       "       [-1.11094414e+01, -2.22310853e+00],\n",
       "       [-1.29618845e+01, -4.00853679e+00],\n",
       "       [-4.41215862e+00,  1.04799512e+01],\n",
       "       [-1.19137850e+01, -2.93793054e+00],\n",
       "       [-1.89400488e+00,  2.77140064e+00],\n",
       "       [ 3.20966636e+00,  8.70606210e+00],\n",
       "       [-7.88626032e+00, -1.22824066e+00],\n",
       "       [ 7.76342505e-01,  8.05431493e+00],\n",
       "       [-2.70199804e+00,  1.11086844e+01],\n",
       "       [-8.10647632e+00, -4.28553765e+00],\n",
       "       [-1.11597688e+01, -2.87907956e+00],\n",
       "       [-9.55831078e+00, -5.83475355e+00],\n",
       "       [-2.88629738e+00,  6.98330102e+00],\n",
       "       [-2.80599866e+00,  7.02056338e+00],\n",
       "       [-9.68996014e+00, -9.27508340e-01],\n",
       "       [-1.09304463e+01, -5.50155149e+00],\n",
       "       [-1.13894227e+01, -1.73237608e+00],\n",
       "       [-1.06735131e+01, -2.83013526e+00],\n",
       "       [-1.28665286e+01, -2.43638067e+00],\n",
       "       [-5.37603455e+00,  1.10323926e+01],\n",
       "       [-8.04500348e+00, -5.98927621e+00],\n",
       "       [-1.10887060e+01, -5.85288546e-02],\n",
       "       [-1.11876817e+01, -3.28197147e+00],\n",
       "       [-1.11712913e+01, -6.32553910e+00],\n",
       "       [-1.14898207e+01, -1.19487702e+00],\n",
       "       [-1.48001280e+01, -1.73071859e+00],\n",
       "       [-1.08301470e+01, -3.26538349e+00],\n",
       "       [-1.01641673e+01,  1.46666135e+00],\n",
       "       [-3.70809591e+00,  8.97686349e+00],\n",
       "       [-6.69673925e+00,  1.04236926e+01],\n",
       "       [-1.56693952e+00,  1.18122251e+01],\n",
       "       [-3.23428326e+00,  1.07587392e+01],\n",
       "       [-9.21575586e+00, -4.34231042e+00],\n",
       "       [-1.23606215e+01, -2.69361875e+00],\n",
       "       [-1.25273424e+01, -1.10745618e+00],\n",
       "       [-3.36071466e+00,  1.09011690e+01],\n",
       "       [-2.99404753e+00,  5.76557852e+00],\n",
       "       [-8.92199019e+00, -1.40565825e+00],\n",
       "       [-3.07571659e+00,  1.03775802e+01],\n",
       "       [-8.12600288e+00, -2.30313012e+00],\n",
       "       [-2.31169139e+00,  8.36001763e+00],\n",
       "       [-8.13644447e+00, -1.33323727e+00],\n",
       "       [ 4.48999590e-01,  6.28871984e+00],\n",
       "       [-1.08493803e+01, -1.49359887e+00],\n",
       "       [-3.30215301e+00,  9.03670402e+00],\n",
       "       [-1.20787960e+01, -3.68494551e+00],\n",
       "       [ 3.04208537e+00,  9.53022609e+00],\n",
       "       [-5.18763876e-01,  7.01957816e+00],\n",
       "       [-2.57004519e+00,  5.99328785e+00],\n",
       "       [ 2.29406060e+00,  8.95596650e+00],\n",
       "       [-1.30177304e+00,  6.69479409e+00],\n",
       "       [-2.45679635e+00,  9.20675378e+00],\n",
       "       [-1.22843108e+01, -2.19919934e+00],\n",
       "       [-2.82342279e+00, -3.22265699e+00],\n",
       "       [-2.74120051e+00,  4.90480078e+00],\n",
       "       [-1.31827011e+01, -3.83335566e+00],\n",
       "       [-5.09736296e+00, -5.94331952e-01],\n",
       "       [ 7.83967387e-02,  1.02232406e+01],\n",
       "       [-1.08967892e+01, -2.56453302e+00],\n",
       "       [-5.59903909e-01,  6.31046353e+00],\n",
       "       [-1.34298830e+01, -6.59155855e+00],\n",
       "       [-3.22470833e+00,  7.82379315e+00],\n",
       "       [-9.28218428e+00, -3.86079967e+00],\n",
       "       [-9.90881190e-03,  8.84762661e+00],\n",
       "       [ 4.79033855e-01,  8.05577279e+00],\n",
       "       [-8.71710666e+00, -1.59057250e+00],\n",
       "       [-8.95935660e+00,  7.36039477e-01],\n",
       "       [-1.01974366e+01, -2.36090674e+00],\n",
       "       [ 6.41681356e-01,  5.34557508e+00],\n",
       "       [ 2.16524262e+00,  1.06944741e+01],\n",
       "       [-7.00337252e+00, -2.24551441e+00],\n",
       "       [-3.28183369e+00,  6.04178137e+00],\n",
       "       [ 1.14098275e-01,  1.56038711e+01],\n",
       "       [-1.32317544e+01, -9.49319333e-01],\n",
       "       [-1.34392822e+01, -8.51751523e-01],\n",
       "       [-1.16625327e+01, -6.36697911e+00],\n",
       "       [-1.24820173e+01,  4.92450379e-01],\n",
       "       [-7.52045931e+00, -3.70849832e+00],\n",
       "       [ 5.89412533e-01,  8.39726854e+00],\n",
       "       [-8.46879143e+00, -1.18503784e+00],\n",
       "       [-1.24084307e+00,  5.86500879e+00],\n",
       "       [-1.01317787e+00,  5.05421884e+00],\n",
       "       [-9.45107257e+00, -5.96841494e+00],\n",
       "       [-1.20806819e+01, -3.71864135e+00],\n",
       "       [-9.64131629e+00, -1.84717303e-01],\n",
       "       [-1.78529046e+00,  8.50414850e+00],\n",
       "       [-2.98845135e+00,  5.73488939e+00],\n",
       "       [-1.32525004e+01, -2.25153322e+00],\n",
       "       [-1.47925440e+01,  4.55005046e-01],\n",
       "       [-9.55574378e+00, -2.54652561e+00],\n",
       "       [-3.88300003e+00,  1.05118015e+01],\n",
       "       [-7.98680118e+00, -4.54243227e+00],\n",
       "       [-1.19702506e+01, -7.37284972e+00],\n",
       "       [-9.92916952e+00, -3.34840854e+00],\n",
       "       [-2.65435327e+00,  8.09832811e+00],\n",
       "       [-3.69739639e+00,  8.08244025e+00],\n",
       "       [-8.14906342e-01,  3.17228008e+00],\n",
       "       [-1.42045768e+00,  8.96588053e+00],\n",
       "       [-1.13863814e+01, -6.82224562e+00],\n",
       "       [-2.92308249e+00,  4.53904952e+00],\n",
       "       [-3.51409884e+00,  7.38908932e+00],\n",
       "       [-3.89175786e+00,  9.91203519e+00],\n",
       "       [-7.76497785e+00, -1.90296033e+00],\n",
       "       [ 7.40667261e-02,  7.36117446e+00],\n",
       "       [-1.17453385e+01, -6.64019193e+00],\n",
       "       [-7.28733165e+00, -9.54413536e-02],\n",
       "       [-3.52131837e-01,  7.68290272e+00],\n",
       "       [-1.19333393e+00,  6.10655785e+00],\n",
       "       [-3.68117486e+00,  7.10334501e+00],\n",
       "       [-1.21591159e+01, -4.15194399e-01],\n",
       "       [-9.16755705e+00, -4.36747093e+00],\n",
       "       [-3.44501501e+00,  7.49212806e+00],\n",
       "       [-3.58202030e+00, -2.00357961e-02],\n",
       "       [-1.13640859e+00,  6.95839051e+00],\n",
       "       [ 1.09260280e+00,  6.51743198e+00],\n",
       "       [-7.06342831e-01,  5.39982132e+00],\n",
       "       [-1.14887474e+01, -4.62932113e+00],\n",
       "       [-1.24245896e+01, -4.89818005e+00],\n",
       "       [-2.48044371e+00,  6.73865681e+00],\n",
       "       [ 6.54923491e-01,  7.23024820e+00],\n",
       "       [-1.02881306e+01,  4.28463064e-01],\n",
       "       [-2.10103792e+00,  5.52871568e+00],\n",
       "       [-7.45136243e+00, -4.89353013e+00],\n",
       "       [ 7.31552589e-01,  9.56809241e+00],\n",
       "       [-1.25590214e+00,  1.33787503e+01],\n",
       "       [ 2.01079496e+00,  1.41786217e+01],\n",
       "       [-9.72340890e+00, -2.02240649e+00],\n",
       "       [ 2.21329267e+00,  7.27573901e+00],\n",
       "       [-3.79301182e-01,  8.80389510e+00],\n",
       "       [-1.09725238e+01, -3.76351735e+00],\n",
       "       [-2.50599630e+00,  6.11661552e+00],\n",
       "       [ 4.59869443e+00,  6.44306119e+00],\n",
       "       [ 3.78078753e-01,  9.15161151e+00],\n",
       "       [-8.43002294e-01,  1.00105073e+01],\n",
       "       [-1.62512168e+01, -2.03992187e+00],\n",
       "       [-3.25366904e+00,  3.88215558e+00],\n",
       "       [-9.86072685e+00, -1.47053345e-01],\n",
       "       [-3.58089319e+00,  3.62894745e+00],\n",
       "       [-4.27773304e+00,  7.32574967e+00],\n",
       "       [-6.88725114e-01,  5.68521554e+00],\n",
       "       [-1.18116493e+00,  1.10911247e+01],\n",
       "       [-1.35998763e+01, -1.63962036e-01],\n",
       "       [-2.51146045e+00,  1.23428578e+01],\n",
       "       [-1.09852267e+01, -6.67804059e+00],\n",
       "       [-5.08862912e+00,  1.05837577e+01],\n",
       "       [-4.05634240e-01,  5.52906586e+00],\n",
       "       [-1.31605751e+00,  6.89964900e+00],\n",
       "       [-1.17850599e+01, -2.06504863e+00],\n",
       "       [-7.31807018e+00, -3.22615648e+00],\n",
       "       [-2.01878776e+00,  1.03692591e+01],\n",
       "       [-9.34310285e+00, -2.05625651e+00],\n",
       "       [-1.06310369e+01, -5.02949614e+00],\n",
       "       [ 3.40228105e+00,  8.65277415e+00],\n",
       "       [-5.84022882e+00, -4.08647731e+00],\n",
       "       [-8.75431205e+00, -3.08445758e-01],\n",
       "       [-8.34432055e+00, -3.70492452e+00],\n",
       "       [-8.21116990e+00, -5.86147919e+00],\n",
       "       [-4.67848176e+00, -1.04210724e+01],\n",
       "       [-1.21586777e+01, -4.22449107e+00],\n",
       "       [-9.61031982e+00,  7.04641806e-01],\n",
       "       [-1.08725208e+00,  1.02550593e+01],\n",
       "       [-9.81284627e+00, -1.72193056e+00],\n",
       "       [ 1.68071656e-01,  1.21610359e+01],\n",
       "       [-1.09870930e+00,  6.46317463e+00],\n",
       "       [-1.24515693e+01, -9.81383811e+00],\n",
       "       [-9.45483074e+00, -5.01768065e+00],\n",
       "       [-6.41832794e-01,  7.61545473e+00],\n",
       "       [-1.34435358e+01, -5.22791118e+00],\n",
       "       [-6.86484809e+00, -3.35349752e+00],\n",
       "       [-4.61204390e+00,  5.17109371e+00],\n",
       "       [-6.69313547e+00, -3.10204254e+00],\n",
       "       [-8.05205351e+00, -5.74546064e+00],\n",
       "       [-3.34764847e+00,  4.41778672e+00],\n",
       "       [-1.00387462e+01, -3.73724982e+00],\n",
       "       [-5.56285417e+00,  1.34095879e+01],\n",
       "       [-7.92919882e+00, -8.07772876e-01],\n",
       "       [-3.23354054e+00,  7.81706994e+00],\n",
       "       [-7.21833348e+00, -3.32622102e+00],\n",
       "       [ 3.29261670e+00,  7.97357386e+00],\n",
       "       [-1.40812740e+01, -2.70052612e+00],\n",
       "       [-2.05347544e+00,  8.93335438e+00],\n",
       "       [-4.48592218e+00,  9.84813239e+00],\n",
       "       [-1.72151596e+00,  1.05018480e+01],\n",
       "       [-8.28308831e+00, -1.01230617e-01],\n",
       "       [-1.05896368e+00,  4.45474595e+00],\n",
       "       [-2.42257301e+00,  6.08106069e+00]])"
      ]
     },
     "execution_count": 82,
     "metadata": {},
     "output_type": "execute_result"
    }
   ],
   "source": [
    "X"
   ]
  },
  {
   "cell_type": "code",
   "execution_count": 54,
   "metadata": {
    "colab": {
     "base_uri": "https://localhost:8080/",
     "height": 303
    },
    "id": "TjSYaC57XUeq",
    "outputId": "d6088ba2-3ad7-4dff-fd25-aaf5b76e44a8",
    "scrolled": true
   },
   "outputs": [
    {
     "data": {
      "text/plain": [
       "<matplotlib.collections.PathCollection at 0x2bfd764aa60>"
      ]
     },
     "execution_count": 54,
     "metadata": {},
     "output_type": "execute_result"
    },
    {
     "data": {
      "image/png": "[encoded data removed]",
      "text/plain": [
       "<Figure size 432x288 with 1 Axes>"
      ]
     },
     "metadata": {
      "needs_background": "light"
     },
     "output_type": "display_data"
    }
   ],
   "source": [
    "plt.scatter(X[:, 0], X[:, 1], cmap='autumn', s=60)"
   ]
  },
  {
   "cell_type": "code",
   "execution_count": 56,
   "metadata": {
    "id": "bWdNYOIqzzO-"
   },
   "outputs": [],
   "source": [
    "# приведем данные к единому масштабу\n",
    "from sklearn.preprocessing import StandardScaler"
   ]
  },
  {
   "cell_type": "code",
   "execution_count": 57,
   "metadata": {
    "id": "NzLJH0GBXGwQ"
   },
   "outputs": [],
   "source": [
    "scaler = StandardScaler()"
   ]
  },
  {
   "cell_type": "markdown",
   "metadata": {},
   "source": [
    "В реальных задачах при разделении выборки на train и test нужно обучать StandardScaler только на тренировочных данных (и применять уже к тестовым данным).\n"
   ]
  },
  {
   "cell_type": "code",
   "execution_count": 58,
   "metadata": {
    "id": "6UC4SNUdXIru"
   },
   "outputs": [
    {
     "data": {
      "text/plain": [
       "array([[-0.63673125, -0.6675741 ],\n",
       "       [ 0.24830257,  0.98893937],\n",
       "       [-1.52438616, -0.92614899],\n",
       "       [-1.1411345 , -1.4647507 ],\n",
       "       [ 0.4565826 ,  0.9919453 ],\n",
       "       [ 1.44460755,  0.93679056],\n",
       "       [ 1.09372607,  0.90820839],\n",
       "       [ 0.84369693,  0.85118515],\n",
       "       [ 1.10087904,  0.80128097],\n",
       "       [ 0.85522758,  1.41371104],\n",
       "       [-0.58603881, -0.41026999],\n",
       "       [ 1.27681984,  0.84090167],\n",
       "       [-1.31049893, -1.08366712],\n",
       "       [ 1.17564569,  1.02554177],\n",
       "       [-1.08074666, -0.8055268 ],\n",
       "       [-1.45735375, -1.101643  ],\n",
       "       [ 0.28083053,  1.30129645],\n",
       "       [-1.24427206, -0.9240812 ],\n",
       "       [ 0.79277855,  0.02282073],\n",
       "       [ 1.83036985,  1.00709404],\n",
       "       [-0.42546451, -0.64052633],\n",
       "       [ 1.33566799,  0.89900071],\n",
       "       [ 0.62851118,  1.40557288],\n",
       "       [-0.47023507, -1.14758404],\n",
       "       [-1.09097837, -0.91432066],\n",
       "       [-0.76539726, -1.40452404],\n",
       "       [ 0.59104258,  0.7213713 ],\n",
       "       [ 0.60736755,  0.72755132],\n",
       "       [-0.79216197, -0.59064938],\n",
       "       [-1.04435644, -1.34926193],\n",
       "       [-1.13766767, -0.72413802],\n",
       "       [-0.99212116, -0.90620317],\n",
       "       [-1.43796762, -0.84089833],\n",
       "       [ 0.08487173,  1.39291977],\n",
       "       [-0.45773746, -1.43015187],\n",
       "       [-1.07653109, -0.44652771],\n",
       "       [-1.09665314, -0.98114095],\n",
       "       [-1.09332093, -1.48592162],\n",
       "       [-1.15807889, -0.63499292],\n",
       "       [-1.83107405, -0.72386312],\n",
       "       [-1.0239653 , -0.9783898 ],\n",
       "       [-0.88856967, -0.19357242],\n",
       "       [ 0.42396854,  1.0520069 ],\n",
       "       [-0.1836314 ,  1.29196587],\n",
       "       [ 0.8592719 ,  1.52225626],\n",
       "       [ 0.52029604,  1.3475339 ],\n",
       "       [-0.69575485, -1.1569999 ],\n",
       "       [-1.33511524, -0.88356169],\n",
       "       [-1.36901009, -0.62049403],\n",
       "       [ 0.49459216,  1.37115612],\n",
       "       [ 0.56913666,  0.51941003],\n",
       "       [-0.63603143, -0.66995133],\n",
       "       [ 0.5525331 ,  1.28431806],\n",
       "       [-0.47420488, -0.81879851],\n",
       "       [ 0.70786166,  0.949702  ],\n",
       "       [-0.47632768, -0.65794019],\n",
       "       [ 1.26911822,  0.60617387],\n",
       "       [-1.02787548, -0.68453642],\n",
       "       [ 0.50649792,  1.06193155],\n",
       "       [-1.27781928, -1.04797485],\n",
       "       [ 1.79630015,  1.14378299],\n",
       "       [ 1.07236907,  0.72738792],\n",
       "       [ 0.65533758,  0.55717599],\n",
       "       [ 1.64422452,  1.0485411 ],\n",
       "       [ 0.91318102,  0.67352195],\n",
       "       [ 0.6783614 ,  1.09013458],\n",
       "       [-1.31960105, -0.80156142],\n",
       "       [ 0.60382517, -0.97130354],\n",
       "       [ 0.6205412 ,  0.37664863],\n",
       "       [-1.50224642, -1.07258892],\n",
       "       [ 0.14152648, -0.53539153],\n",
       "       [ 1.19377357,  1.25872059],\n",
       "       [-1.03751384, -0.86215261],\n",
       "       [ 1.06400518,  0.6097801 ],\n",
       "       [-1.55249922, -1.53004138],\n",
       "       [ 0.52224265,  0.8607683 ],\n",
       "       [-0.70925994, -1.07714055],\n",
       "       [ 1.1758208 ,  1.03057275],\n",
       "       [ 1.27522427,  0.8992425 ],\n",
       "       [-0.59437801, -0.70061966],\n",
       "       [-0.64362813, -0.31474725],\n",
       "       [-0.89533341, -0.82838085],\n",
       "       [ 1.30829099,  0.44975177],\n",
       "       [ 1.61803545,  1.33687543],\n",
       "       [-0.24597084, -0.80924285],\n",
       "       [ 0.51062889,  0.56521872],\n",
       "       [ 1.2010318 ,  2.15110697],\n",
       "       [-1.5122191 , -0.59426677],\n",
       "       [-1.55441011, -0.57808499],\n",
       "       [-1.19319174, -1.49279451],\n",
       "       [-1.35979537, -0.35514691],\n",
       "       [-0.3510961 , -1.05188112],\n",
       "       [ 1.29766458,  0.95588013],\n",
       "       [-0.54389479, -0.63336107],\n",
       "       [ 0.92556826,  0.5359007 ],\n",
       "       [ 0.97185326,  0.40142986],\n",
       "       [-0.74359542, -1.426692  ],\n",
       "       [-1.27820269, -1.05356336],\n",
       "       [-0.78227253, -0.46745627],\n",
       "       [ 0.81488051,  0.97360634],\n",
       "       [ 0.57027438,  0.51432019],\n",
       "       [-1.51643682, -0.81024108],\n",
       "       [-1.82953219, -0.36135728],\n",
       "       [-0.76487539, -0.85916605],\n",
       "       [ 0.38841002,  1.30657888],\n",
       "       [-0.44590476, -1.19019044],\n",
       "       [-1.25575168, -1.6596198 ],\n",
       "       [-0.84079393, -0.99215965],\n",
       "       [ 0.6381975 ,  0.90630037],\n",
       "       [ 0.42614378,  0.90366534],\n",
       "       [ 1.01216244,  0.08930724],\n",
       "       [ 0.88905208,  1.05018536],\n",
       "       [-1.13704937, -1.56830121],\n",
       "       [ 0.58356406,  0.31598819],\n",
       "       [ 0.46340871,  0.78867195],\n",
       "       [ 0.38662953,  1.20710665],\n",
       "       [-0.40080743, -0.75242969],\n",
       "       [ 1.19289327,  0.78404223],\n",
       "       [-1.2100264 , -1.53810731],\n",
       "       [-0.30370056, -0.45264971],\n",
       "       [ 1.10624586,  0.83740139],\n",
       "       [ 0.93522701,  0.57596201],\n",
       "       [ 0.42944167,  0.74128079],\n",
       "       [-1.29414857, -0.50568128],\n",
       "       [-0.68595589, -1.16117281],\n",
       "       [ 0.47745366,  0.8057611 ],\n",
       "       [ 0.44960008, -0.44014358],\n",
       "       [ 0.9468001 ,  0.71723985],\n",
       "       [ 1.39996463,  0.64410616],\n",
       "       [ 1.03423372,  0.4587486 ],\n",
       "       [-1.15786069, -1.20460109],\n",
       "       [-1.34812014, -1.24919179],\n",
       "       [ 0.67355382,  0.68079666],\n",
       "       [ 1.31098315,  0.76232789],\n",
       "       [-0.91377177, -0.36575931],\n",
       "       [ 0.75068813,  0.48012594],\n",
       "       [-0.3370485 , -1.24842059],\n",
       "       [ 1.32656207,  1.15006318],\n",
       "       [ 0.92250671,  1.78206703],\n",
       "       [ 1.58663579,  1.91472701],\n",
       "       [-0.7989622 , -0.77224003],\n",
       "       [ 1.62780416,  0.76987262],\n",
       "       [ 1.10072225,  1.02331981],\n",
       "       [-1.0529109 , -1.06100612],\n",
       "       [ 0.66835891,  0.57763009],\n",
       "       [ 2.11276332,  0.63177164],\n",
       "       [ 1.2546998 ,  1.08098914],\n",
       "       [ 1.00645045,  1.22343842],\n",
       "       [-2.12608464, -0.77514499],\n",
       "       [ 0.51635485,  0.20704125],\n",
       "       [-0.82687934, -0.46120964],\n",
       "       [ 0.44982922,  0.16504627],\n",
       "       [ 0.30815964,  0.77816697],\n",
       "       [ 1.03781546,  0.5060817 ],\n",
       "       [ 0.937701  ,  1.40266059],\n",
       "       [-1.58705937, -0.46401398],\n",
       "       [ 0.66724803,  1.61026256],\n",
       "       [-1.05549345, -1.54438457],\n",
       "       [ 0.1433021 ,  1.31851293],\n",
       "       [ 1.09536866,  0.48018402],\n",
       "       [ 0.91027694,  0.70749747],\n",
       "       [-1.21810188, -0.7793123 ],\n",
       "       [-0.3099498 , -0.97188394],\n",
       "       [ 0.76740983,  1.28293799],\n",
       "       [-0.72164486, -0.77785412],\n",
       "       [-0.98348563, -1.27097077],\n",
       "       [ 1.86952898,  0.99825615],\n",
       "       [-0.00950032, -1.11456956],\n",
       "       [-0.60194197, -0.48797684],\n",
       "       [-0.5185895 , -1.0512884 ],\n",
       "       [-0.49151958, -1.40895652],\n",
       "       [ 0.22668626, -2.16517252],\n",
       "       [-1.29405946, -1.13745937],\n",
       "       [-0.77597085, -0.31995461],\n",
       "       [ 0.95679376,  1.26399777],\n",
       "       [-0.81714508, -0.72240561],\n",
       "       [ 1.21200475,  1.58010711],\n",
       "       [ 0.95446447,  0.63510749],\n",
       "       [-1.35360519, -2.06446172],\n",
       "       [-0.74435947, -1.26901116],\n",
       "       [ 1.0473488 ,  0.82621503],\n",
       "       [-1.55527488, -1.30387823],\n",
       "       [-0.21780842, -0.99300366],\n",
       "       [ 0.24019327,  0.42081375],\n",
       "       [-0.18289874, -0.95129944],\n",
       "       [-0.45917075, -1.38971466],\n",
       "       [ 0.49724856,  0.29587655],\n",
       "       [-0.8630712 , -1.05664961],\n",
       "       [ 0.04689076,  1.78718149],\n",
       "       [-0.43419404, -0.57079106],\n",
       "       [ 0.52044703,  0.85965324],\n",
       "       [-0.28967303, -0.98847981],\n",
       "       [ 1.8472339 ,  0.88560967],\n",
       "       [-1.68492892, -0.88470728],\n",
       "       [ 0.76035772,  1.04479084],\n",
       "       [ 0.26583418,  1.19650827],\n",
       "       [ 0.82784606,  1.30492808],\n",
       "       [-0.5061408 , -0.45360987],\n",
       "       [ 0.96254487,  0.3020063 ],\n",
       "       [ 0.68531911,  0.57173326]])"
      ]
     },
     "execution_count": 58,
     "metadata": {},
     "output_type": "execute_result"
    }
   ],
   "source": [
    "# fit-transform сразу обучается и преобразует данные\n",
    "X_scaled = scaler.fit_transform(X)\n",
    "X_scaled"
   ]
  },
  {
   "cell_type": "code",
   "execution_count": 60,
   "metadata": {
    "colab": {
     "base_uri": "https://localhost:8080/",
     "height": 304
    },
    "id": "TRnNnC3kXbcr",
    "outputId": "841e1554-c362-4528-c92a-e6c32dd57034"
   },
   "outputs": [
    {
     "data": {
      "text/plain": [
       "<matplotlib.collections.PathCollection at 0x2bfd76f6760>"
      ]
     },
     "execution_count": 60,
     "metadata": {},
     "output_type": "execute_result"
    },
    {
     "data": {
      "image/png": "[encoded data removed]",
      "text/plain": [
       "<Figure size 432x288 with 1 Axes>"
      ]
     },
     "metadata": {
      "needs_background": "light"
     },
     "output_type": "display_data"
    }
   ],
   "source": [
    "plt.scatter(X_scaled[:, 0], X_scaled[:, 1],cmap='autumn', s=60)"
   ]
  },
  {
   "cell_type": "code",
   "execution_count": 63,
   "metadata": {
    "id": "XftqUwUlYLIj"
   },
   "outputs": [],
   "source": [
    "from sklearn.cluster import KMeans"
   ]
  },
  {
   "cell_type": "code",
   "execution_count": 64,
   "metadata": {
    "colab": {
     "base_uri": "https://localhost:8080/",
     "height": 213
    },
    "id": "7PkhGAB-YN1C",
    "outputId": "443f3bc6-6768-44ec-a167-a4f535a10366"
   },
   "outputs": [
    {
     "data": {
      "text/plain": [
       "array([1, 0, 1, 1, 0, 0, 0, 0, 0, 0, 1, 0, 1, 0, 1, 1, 0, 1, 0, 0, 1, 0,\n",
       "       0, 1, 1, 1, 0, 0, 1, 1, 1, 1, 1, 0, 1, 1, 1, 1, 1, 1, 1, 1, 0, 0,\n",
       "       0, 0, 1, 1, 1, 0, 0, 1, 0, 1, 0, 1, 0, 1, 0, 1, 0, 0, 0, 0, 0, 0,\n",
       "       1, 1, 0, 1, 1, 0, 1, 0, 1, 0, 1, 0, 0, 1, 1, 1, 0, 0, 1, 0, 0, 1,\n",
       "       1, 1, 1, 1, 0, 1, 0, 0, 1, 1, 1, 0, 0, 1, 1, 1, 0, 1, 1, 1, 0, 0,\n",
       "       0, 0, 1, 0, 0, 0, 1, 0, 1, 1, 0, 0, 0, 1, 1, 0, 0, 0, 0, 0, 1, 1,\n",
       "       0, 0, 1, 0, 1, 0, 0, 0, 1, 0, 0, 1, 0, 0, 0, 0, 1, 0, 1, 0, 0, 0,\n",
       "       0, 1, 0, 1, 0, 0, 0, 1, 1, 0, 1, 1, 0, 1, 1, 1, 1, 1, 1, 1, 0, 1,\n",
       "       0, 0, 1, 1, 0, 1, 1, 0, 1, 1, 0, 1, 0, 1, 0, 1, 0, 1, 0, 0, 0, 1,\n",
       "       0, 0])"
      ]
     },
     "execution_count": 64,
     "metadata": {},
     "output_type": "execute_result"
    }
   ],
   "source": [
    "# явно указываем количество кластеров\n",
    "kmeans = KMeans(n_clusters=2)\n",
    "# fit_predict обучается на данных и каждому объекту присваивает кластер\n",
    "clusters = kmeans.fit_predict(X_scaled)\n",
    "clusters"
   ]
  },
  {
   "cell_type": "code",
   "execution_count": 66,
   "metadata": {
    "colab": {
     "base_uri": "https://localhost:8080/",
     "height": 304
    },
    "id": "EIhtpQU4YXiR",
    "outputId": "8b3fdd98-c53f-4afe-d853-504bbcbf4315"
   },
   "outputs": [
    {
     "data": {
      "text/plain": [
       "<matplotlib.collections.PathCollection at 0x2bfd77a4160>"
      ]
     },
     "execution_count": 66,
     "metadata": {},
     "output_type": "execute_result"
    },
    {
     "data": {
      "image/png": "[encoded data removed]",
      "text/plain": [
       "<Figure size 432x288 with 1 Axes>"
      ]
     },
     "metadata": {
      "needs_background": "light"
     },
     "output_type": "display_data"
    }
   ],
   "source": [
    "plt.scatter(X_scaled[:, 0], X_scaled[:, 1], cmap='autumn', c=clusters, s=60)"
   ]
  },
  {
   "cell_type": "code",
   "execution_count": 67,
   "metadata": {
    "id": "JakzZ_1WYbgI"
   },
   "outputs": [],
   "source": [
    "# строим график локтя\n",
    "\n",
    "# создаем список для инерции\n",
    "k_inertia = []\n",
    "# задаем диапазон кластеров\n",
    "ks = range(1, 20)\n",
    "\n",
    "for k in ks:\n",
    "    clf_kmeans = KMeans(n_clusters=k)\n",
    "    clusters_kmeans = clf_kmeans.fit_predict(X_scaled)\n",
    "    # добавляем инерцию каждой модели в список\n",
    "    k_inertia.append(clf_kmeans.inertia_)"
   ]
  },
  {
   "cell_type": "code",
   "execution_count": 69,
   "metadata": {
    "colab": {
     "base_uri": "https://localhost:8080/",
     "height": 303
    },
    "id": "BL2K84DOYzQp",
    "outputId": "02019f5b-36bd-4dc6-df76-d5a4fcebfcea"
   },
   "outputs": [
    {
     "data": {
      "text/plain": [
       "[<matplotlib.lines.Line2D at 0x2bfd8820fd0>]"
      ]
     },
     "execution_count": 69,
     "metadata": {},
     "output_type": "execute_result"
    },
    {
     "data": {
      "image/png": "[encoded data removed]",
      "text/plain": [
       "<Figure size 432x288 with 1 Axes>"
      ]
     },
     "metadata": {
      "needs_background": "light"
     },
     "output_type": "display_data"
    }
   ],
   "source": [
    "plt.plot(ks, k_inertia)\n",
    "plt.plot(ks, k_inertia ,'ro')"
   ]
  },
  {
   "cell_type": "markdown",
   "metadata": {},
   "source": [
    "Иерархическая кластеризация"
   ]
  },
  {
   "cell_type": "code",
   "execution_count": 70,
   "metadata": {
    "id": "wGWt37snY1ak"
   },
   "outputs": [],
   "source": [
    "from scipy.spatial.distance import pdist\n",
    "from scipy.cluster import hierarchy"
   ]
  },
  {
   "cell_type": "code",
   "execution_count": 71,
   "metadata": {
    "colab": {
     "base_uri": "https://localhost:8080/",
     "height": 419
    },
    "id": "UL2QOOH_Y8vL",
    "outputId": "128d6635-2497-4aca-b0a3-eef8faf29cd5"
   },
   "outputs": [
    {
     "data": {
      "image/png": "[encoded data removed]",
      "text/plain": [
       "<Figure size 1440x648 with 1 Axes>"
      ]
     },
     "metadata": {
      "needs_background": "light"
     },
     "output_type": "display_data"
    }
   ],
   "source": [
    "# строим дендрограмму\n",
    "distance_mat = pdist(X_scaled) # pdist посчитает нам матрицу попарных расстояний между точками\n",
    "# Z = hierarchy.linkage(distance_mat) # linkage — реализация агломеративного алгоритма\n",
    "Z = hierarchy.linkage(distance_mat, 'ward')\n",
    "plt.figure(figsize=(20, 9))\n",
    "dn = hierarchy.dendrogram(Z)"
   ]
  },
  {
   "cell_type": "code",
   "execution_count": 76,
   "metadata": {
    "id": "K_0ejaBzZBIv"
   },
   "outputs": [],
   "source": [
    "# делаем уже кластеризацию по факту\n",
    "from sklearn.cluster import AgglomerativeClustering"
   ]
  },
  {
   "cell_type": "code",
   "execution_count": 78,
   "metadata": {
    "colab": {
     "base_uri": "https://localhost:8080/",
     "height": 213
    },
    "id": "wjEgXrmpZVrY",
    "outputId": "74b5fccd-49ed-43e1-d1e6-aa50449bc4b7"
   },
   "outputs": [
    {
     "data": {
      "text/plain": [
       "array([0, 1, 0, 0, 1, 1, 1, 1, 1, 1, 0, 1, 0, 1, 0, 0, 1, 0, 1, 1, 0, 1,\n",
       "       1, 0, 0, 0, 1, 1, 0, 0, 0, 0, 0, 1, 0, 0, 0, 0, 0, 0, 0, 0, 1, 1,\n",
       "       1, 1, 0, 0, 0, 1, 1, 0, 1, 0, 1, 0, 1, 0, 1, 0, 1, 1, 1, 1, 1, 1,\n",
       "       0, 0, 1, 0, 0, 1, 0, 1, 0, 1, 0, 1, 1, 0, 0, 0, 1, 1, 0, 1, 1, 0,\n",
       "       0, 0, 0, 0, 1, 0, 1, 1, 0, 0, 0, 1, 1, 0, 0, 0, 1, 0, 0, 0, 1, 1,\n",
       "       1, 1, 0, 1, 1, 1, 0, 1, 0, 0, 1, 1, 1, 0, 0, 1, 0, 1, 1, 1, 0, 0,\n",
       "       1, 1, 0, 1, 0, 1, 1, 1, 0, 1, 1, 0, 1, 1, 1, 1, 0, 1, 0, 1, 1, 1,\n",
       "       1, 0, 1, 0, 1, 1, 1, 0, 0, 1, 0, 0, 1, 0, 0, 0, 0, 0, 0, 0, 1, 0,\n",
       "       1, 1, 0, 0, 1, 0, 0, 1, 0, 0, 1, 0, 1, 0, 1, 0, 1, 0, 1, 1, 1, 0,\n",
       "       1, 1], dtype=int64)"
      ]
     },
     "execution_count": 78,
     "metadata": {},
     "output_type": "execute_result"
    }
   ],
   "source": [
    "aglo = AgglomerativeClustering(n_clusters=2)\n",
    "clusters = aglo.fit_predict(X_scaled)\n",
    "clusters"
   ]
  },
  {
   "cell_type": "code",
   "execution_count": 79,
   "metadata": {
    "colab": {
     "base_uri": "https://localhost:8080/",
     "height": 304
    },
    "id": "Us0SDSD1ZtX7",
    "outputId": "1a822df2-0e99-4b3c-84c2-4e95bbf0f775"
   },
   "outputs": [
    {
     "data": {
      "text/plain": [
       "<matplotlib.collections.PathCollection at 0x2bfd8a542e0>"
      ]
     },
     "execution_count": 79,
     "metadata": {},
     "output_type": "execute_result"
    },
    {
     "data": {
      "image/png": "[encoded data removed]",
      "text/plain": [
       "<Figure size 432x288 with 1 Axes>"
      ]
     },
     "metadata": {
      "needs_background": "light"
     },
     "output_type": "display_data"
    }
   ],
   "source": [
    "plt.scatter(X_scaled[:, 0], X_scaled[:, 1],cmap='autumn', c=clusters, s=60)"
   ]
  },
  {
   "cell_type": "code",
   "execution_count": 80,
   "metadata": {
    "id": "tPUIlJOaZv5J"
   },
   "outputs": [
    {
     "data": {
      "text/html": [
       "<div>\n",
       "<style scoped>\n",
       "    .dataframe tbody tr th:only-of-type {\n",
       "        vertical-align: middle;\n",
       "    }\n",
       "\n",
       "    .dataframe tbody tr th {\n",
       "        vertical-align: top;\n",
       "    }\n",
       "\n",
       "    .dataframe thead th {\n",
       "        text-align: right;\n",
       "    }\n",
       "</style>\n",
       "<table border=\"1\" class=\"dataframe\">\n",
       "  <thead>\n",
       "    <tr style=\"text-align: right;\">\n",
       "      <th></th>\n",
       "      <th>0</th>\n",
       "      <th>1</th>\n",
       "      <th>y_hat</th>\n",
       "    </tr>\n",
       "  </thead>\n",
       "  <tbody>\n",
       "    <tr>\n",
       "      <th>0</th>\n",
       "      <td>-8.925432</td>\n",
       "      <td>-1.391325</td>\n",
       "      <td>0</td>\n",
       "    </tr>\n",
       "    <tr>\n",
       "      <th>1</th>\n",
       "      <td>-4.572156</td>\n",
       "      <td>8.596599</td>\n",
       "      <td>1</td>\n",
       "    </tr>\n",
       "    <tr>\n",
       "      <th>2</th>\n",
       "      <td>-13.291601</td>\n",
       "      <td>-2.950398</td>\n",
       "      <td>0</td>\n",
       "    </tr>\n",
       "    <tr>\n",
       "      <th>3</th>\n",
       "      <td>-11.406475</td>\n",
       "      <td>-6.197889</td>\n",
       "      <td>0</td>\n",
       "    </tr>\n",
       "    <tr>\n",
       "      <th>4</th>\n",
       "      <td>-3.547675</td>\n",
       "      <td>8.614723</td>\n",
       "      <td>1</td>\n",
       "    </tr>\n",
       "    <tr>\n",
       "      <th>...</th>\n",
       "      <td>...</td>\n",
       "      <td>...</td>\n",
       "      <td>...</td>\n",
       "    </tr>\n",
       "    <tr>\n",
       "      <th>195</th>\n",
       "      <td>-4.485922</td>\n",
       "      <td>9.848132</td>\n",
       "      <td>1</td>\n",
       "    </tr>\n",
       "    <tr>\n",
       "      <th>196</th>\n",
       "      <td>-1.721516</td>\n",
       "      <td>10.501848</td>\n",
       "      <td>1</td>\n",
       "    </tr>\n",
       "    <tr>\n",
       "      <th>197</th>\n",
       "      <td>-8.283088</td>\n",
       "      <td>-0.101231</td>\n",
       "      <td>0</td>\n",
       "    </tr>\n",
       "    <tr>\n",
       "      <th>198</th>\n",
       "      <td>-1.058964</td>\n",
       "      <td>4.454746</td>\n",
       "      <td>1</td>\n",
       "    </tr>\n",
       "    <tr>\n",
       "      <th>199</th>\n",
       "      <td>-2.422573</td>\n",
       "      <td>6.081061</td>\n",
       "      <td>1</td>\n",
       "    </tr>\n",
       "  </tbody>\n",
       "</table>\n",
       "<p>200 rows × 3 columns</p>\n",
       "</div>"
      ],
      "text/plain": [
       "             0          1  y_hat\n",
       "0    -8.925432  -1.391325      0\n",
       "1    -4.572156   8.596599      1\n",
       "2   -13.291601  -2.950398      0\n",
       "3   -11.406475  -6.197889      0\n",
       "4    -3.547675   8.614723      1\n",
       "..         ...        ...    ...\n",
       "195  -4.485922   9.848132      1\n",
       "196  -1.721516  10.501848      1\n",
       "197  -8.283088  -0.101231      0\n",
       "198  -1.058964   4.454746      1\n",
       "199  -2.422573   6.081061      1\n",
       "\n",
       "[200 rows x 3 columns]"
      ]
     },
     "execution_count": 80,
     "metadata": {},
     "output_type": "execute_result"
    }
   ],
   "source": [
    "df = pd.DataFrame(X)\n",
    "df['y_hat'] = clusters\n",
    "df"
   ]
  },
  {
   "cell_type": "code",
   "execution_count": null,
   "metadata": {},
   "outputs": [],
   "source": []
  }
 ],
 "metadata": {
  "colab": {
   "collapsed_sections": [],
   "name": "Лекция 5.ipynb",
   "provenance": []
  },
  "kernelspec": {
   "display_name": "Python 3",
   "language": "python",
   "name": "python3"
  },
  "language_info": {
   "codemirror_mode": {
    "name": "ipython",
    "version": 3
   },
   "file_extension": ".py",
   "mimetype": "text/x-python",
   "name": "python",
   "nbconvert_exporter": "python",
   "pygments_lexer": "ipython3",
   "version": "3.8.5"
  }
 },
 "nbformat": 4,
 "nbformat_minor": 1
}
