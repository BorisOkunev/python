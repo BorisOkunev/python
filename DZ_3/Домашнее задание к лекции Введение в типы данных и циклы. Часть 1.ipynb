{
 "cells": [
  {
   "cell_type": "markdown",
   "metadata": {},
   "source": [
    "Задание 1\n",
    "Дана переменная, в которой хранится слово из латинских букв. Напишите код, который выводит на экран:\n",
    "\n",
    "среднюю букву, если число букв в слове нечетное;\n",
    "две средних буквы, если число букв четное.\n",
    "Примеры работы программы:\n",
    "\n",
    "word = 'test'\n",
    "Результат:\n",
    "es\n",
    "\n",
    "word = 'testing'\n",
    "Результат:\n",
    "t"
   ]
  },
  {
   "cell_type": "code",
   "execution_count": 8,
   "metadata": {},
   "outputs": [
    {
     "name": "stdout",
     "output_type": "stream",
     "text": [
      "Введите слово из латинских букв: erpgoliuy\n",
      "Результат:\n",
      "Слово erpgoliuy состоит из 9 букв и это нечетное число!\n",
      "Средняя буква будет: o\n"
     ]
    }
   ],
   "source": [
    "word = input ('Введите слово из латинских букв: ') # операция ввода\n",
    "\n",
    "word_len = len(word) # определяем длину слова\n",
    "word_mid = word_len // 2 # рассчитываем середину слова\n",
    "print ('Результат:')\n",
    "if word_len == 0:\n",
    "    print ('Вы не ввели слово! Начните заново!') # действие, если слово не введено\n",
    "elif word_len % 2 == 0: # действие, если длина слова четная\n",
    "        print (f'Слово {word} состоит из {word_len} букв и это четное число!\\nСредние буквы будут: {word[word_mid-1]}{word[word_mid]}')\n",
    "    \n",
    "else: # действие, если длина слова нечетная\n",
    "    print (f'Слово {word} состоит из {word_len} букв и это нечетное число!\\nСредняя буква будет: {word[word_mid]}')"
   ]
  },
  {
   "cell_type": "markdown",
   "metadata": {},
   "source": [
    "Задание 2\n",
    "Напишите программу, которая последовательно запрашивает у пользователя числа (по одному за раз) и после первого нуля выводит сумму всех ранее введенных чисел.\n",
    "Примеры работы программы:\n",
    "Введите число:  \n",
    "1\n",
    "Введите число:  \n",
    "4\n",
    "Введите число:  \n",
    "6\n",
    "Введите число:  \n",
    "0\n",
    "Результат:\n",
    "11\n",
    "Введите число:  \n",
    "0\n",
    "Результат:\n",
    "0"
   ]
  },
  {
   "cell_type": "code",
   "execution_count": 15,
   "metadata": {},
   "outputs": [
    {
     "name": "stdout",
     "output_type": "stream",
     "text": [
      "Введите число:\n",
      " 5\n",
      "Введите число:\n",
      " 10\n",
      "Введите число:\n",
      " 13\n",
      "Введите число:\n",
      " 26\n",
      "Введите число:\n",
      " 0\n",
      "Результат:\n",
      "54\n"
     ]
    }
   ],
   "source": [
    "number_sum = 0\n",
    "number_current = int(input(\"Введите число:\\n \"))\n",
    "\n",
    "\n",
    "while number_current != 0:\n",
    "    number_sum = number_sum + number_current\n",
    "    number_current = int(input(\"Введите число:\\n \"))\n",
    "print(f'Результат:\\n{number_sum}')"
   ]
  },
  {
   "cell_type": "markdown",
   "metadata": {},
   "source": [
    "Мы делаем MVP dating-сервиса, и у нас есть список парней и девушек.\n",
    "Выдвигаем гипотезу: лучшие рекомендации мы получим, если просто отсортируем имена по алфавиту и познакомим людей с одинаковыми индексами после сортировки! Но мы не будем никого знакомить, если кто-то может остаться без пары:\n",
    "\n",
    "Примеры работы программы:\n",
    "\n",
    "boys = ['Peter', 'Alex', 'John', 'Arthur', 'Richard']\n",
    "girls = ['Kate', 'Liza', 'Kira', 'Emma', 'Trisha']\n",
    "Результат:\n",
    "\n",
    "Идеальные пары:  \n",
    "Alex и Emma  \n",
    "Arthur и Kate  \n",
    "John и Kira  \n",
    "Peter и Liza  \n",
    "Richard и Trisha\n",
    "boys = ['Peter', 'Alex', 'John', 'Arthur', 'Richard', 'Michael']\n",
    "girls = ['Kate', 'Liza', 'Kira', 'Emma', 'Trisha']\n",
    "Результат:\n",
    "Внимание, кто-то может остаться без пары!"
   ]
  },
  {
   "cell_type": "code",
   "execution_count": 71,
   "metadata": {},
   "outputs": [
    {
     "name": "stdout",
     "output_type": "stream",
     "text": [
      "['Peter', 'Alex', 'John', 'Arthur', 'Richard']\n",
      "['Kate', 'Liza', 'Kira', 'Emma', 'Trisha']\n",
      "\n",
      "Результат:\n",
      "Идеальные пары:\n",
      "Peter и Kate\n",
      "Alex и Liza\n",
      "John и Kira\n",
      "Arthur и Emma\n",
      "Richard и Trisha\n",
      "Конец программы!\n"
     ]
    }
   ],
   "source": [
    "boys = ['Peter', 'Alex', 'John', 'Arthur', 'Richard']\n",
    "girls = ['Kate', 'Liza', 'Kira', 'Emma', 'Trisha']\n",
    "print(f'{boys}\\n{girls}\\n')\n",
    "\n",
    "if len(boys) != len(girls):\n",
    "    print ('Результат:\\nВнимание! Кто-то может остаться без пары!')\n",
    "else:\n",
    "    print('Результат:\\nИдеальные пары:')\n",
    "    for boy_name in boys:\n",
    "        for girl_name in girls:\n",
    "            if girls.index(girl_name) == boys.index(boy_name):                \n",
    "                print(f'{boy_name} и {girl_name}')      \n",
    "               \n",
    "print('Конец программы!')     \n",
    "           \n",
    "            \n"
   ]
  },
  {
   "cell_type": "markdown",
   "metadata": {},
   "source": [
    "Задание 4\n",
    "У нас есть список, содержащий информацию о среднедневной температуре в Фаренгейтах за произвольный период по странам (структура данных в примере). Необходимо написать код, который рассчитает среднюю температуру за период в Цельсиях(!) для каждой страны.\n",
    "\n",
    "Пример работы программы:\n",
    "\n",
    "countries_temperature = [\n",
    "    ['Thailand', [75.2, 77, 78.8, 73.4, 68, 75.2, 77]],\n",
    "    ['Germany', [57.2, 55.4, 59, 59, 53.6]],\n",
    "    ['Russia', [35.6, 37.4, 39.2, 41, 42.8, 39.2, 35.6]],\n",
    "    ['Poland', [50, 50, 53.6, 57.2, 55.4, 55.4]]\n",
    "]\n",
    "Результат:\n",
    "\n",
    "Средняя температура в странах:\n",
    "Thailand  -  23.9 С\n",
    "Germany  -  13.8 С\n",
    "Russia  -  3.7 С\n",
    "Poland  -  12.0 С"
   ]
  },
  {
   "cell_type": "code",
   "execution_count": 130,
   "metadata": {
    "scrolled": true
   },
   "outputs": [
    {
     "name": "stdout",
     "output_type": "stream",
     "text": [
      "Результат:\n",
      "\n",
      "Средняя температура в странах:\n",
      "\n",
      "Thailand - 23.9 C\n",
      "Germany - 13.8 C\n",
      "Russia - 3.7 C\n",
      "Poland - 12.0 C\n"
     ]
    }
   ],
   "source": [
    "countries_temperature = [\n",
    "    ['Thailand', [75.2, 77, 78.8, 73.4, 68, 75.2, 77]],\n",
    "    ['Germany', [57.2, 55.4, 59, 59, 53.6]],\n",
    "    ['Russia', [35.6, 37.4, 39.2, 41, 42.8, 39.2, 35.6]],\n",
    "    ['Poland', [50, 50, 53.6, 57.2, 55.4, 55.4]]\n",
    "]\n",
    "\n",
    "print('Результат:\\n\\n'\n",
    "'Средняя температура в странах:\\n')\n",
    "for countries in countries_temperature:\n",
    "    print(f'{countries[0]} - {round(((sum(countries[1])/len(countries[1]) - 32)/1.8),1)} C')"
   ]
  },
  {
   "cell_type": "markdown",
   "metadata": {},
   "source": [
    "Задание 5 (необязательное)\n",
    "Дан поток логов по количеству просмотренных страниц для каждого пользователя. Вам необходимо написать алгоритм, который считает среднее значение просмотров на пользователя. Т. е. надо посчитать отношение суммы всех просмотров к количеству уникальных пользователей.\n",
    "\n",
    "Примеры работы программы:\n",
    "\n",
    "stream = [\n",
    "    '2018-01-01,user1,3',\n",
    "    '2018-01-07,user1,4',\n",
    "    '2018-03-29,user1,1',\n",
    "    '2018-04-04,user1,13',\n",
    "    '2018-01-05,user2,7',\n",
    "    '2018-06-14,user3,4',\n",
    "    '2018-07-02,user3,10',\n",
    "    '2018-03-21,user4,19',\n",
    "    '2018-03-22,user4,4',\n",
    "    '2018-04-22,user4,8',\n",
    "    '2018-05-03,user4,9',\n",
    "    '2018-05-11,user4,11',\n",
    "]\n",
    "Результат:\n",
    "Среднее количество просмотров на уникального пользователя: 23.25\n",
    "\n",
    "stream = [\n",
    "    '2018-01-01,user100,150',\n",
    "    '2018-01-07,user99,205',\n",
    "    '2018-03-29,user1001,81'\n",
    "]\n",
    "Результат:\n",
    "Среднее количество просмотров на уникального пользователя: 145.33"
   ]
  },
  {
   "cell_type": "code",
   "execution_count": 65,
   "metadata": {
    "scrolled": true
   },
   "outputs": [
    {
     "name": "stdout",
     "output_type": "stream",
     "text": [
      "Результат:\n",
      "Среднее количество просмотров на уникального пользователя: 145.33\n"
     ]
    }
   ],
   "source": [
    "# задаем исходные данные и создаем копию потока логов для его преобразования\n",
    "stream = [ '2018-01-01,user100,150', '2018-01-07,user99,205', '2018-03-29,user1001,81' ] \n",
    "stream\n",
    "import copy\n",
    "stream_copy = copy.copy(stream)\n",
    "\n",
    "# в копию потока логов сохраняем разделенные строки\n",
    "for i in range(len(stream_copy)):\n",
    "    for j in range(len(stream)):\n",
    "        if i==j:\n",
    "            stream_copy[i] = stream[j].split(',')\n",
    "# преобразовываем количество просмотров в числовой формат для суммирования\n",
    "for log in stream_copy:\n",
    "    log[2] = int(log[2])\n",
    "# удаляем даты логов, т.к. они не требуются в задаче\n",
    "for lines in stream_copy:\n",
    "    del lines[0]  \n",
    "\n",
    "# тут используем метод \"нагуглили...\" (работа со словарем)\n",
    "grouped_dict = {}\n",
    "for elem in stream_copy:\n",
    "    if elem[0] not in grouped_dict:\n",
    "        grouped_dict[elem[0]] = []\n",
    "    grouped_dict[elem[0]].append(elem[1:])\n",
    "for key in grouped_dict:\n",
    "    grouped_dict[key] = [sum(i) for i in zip(*grouped_dict[key])]\n",
    "\n",
    "amount_unique = len(grouped_dict)\n",
    "\n",
    "total_value = sum(map(sum, grouped_dict.values()))\n",
    "\n",
    "print(f'Результат:\\nСреднее количество просмотров на уникального пользователя: {round((total_value/amount_unique),2)}')"
   ]
  },
  {
   "cell_type": "markdown",
   "metadata": {},
   "source": [
    "6-е задание (не делал, на \"потом...\")"
   ]
  }
 ],
 "metadata": {
  "kernelspec": {
   "display_name": "Python 3",
   "language": "python",
   "name": "python3"
  },
  "language_info": {
   "codemirror_mode": {
    "name": "ipython",
    "version": 3
   },
   "file_extension": ".py",
   "mimetype": "text/x-python",
   "name": "python",
   "nbconvert_exporter": "python",
   "pygments_lexer": "ipython3",
   "version": "3.8.5"
  }
 },
 "nbformat": 4,
 "nbformat_minor": 4
}
