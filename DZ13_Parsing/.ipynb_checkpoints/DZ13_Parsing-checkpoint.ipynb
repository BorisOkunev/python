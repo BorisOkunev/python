{
 "cells": [
  {
   "cell_type": "markdown",
   "metadata": {},
   "source": [
    "Домашнее задание к лекции \"Основы веб-скрапинга и работы с API\"\n",
    "Задание 1.\n",
    "Обязательная часть\n",
    "Будем парсить страницу со свежеми новостям на habr.com/ru/all/.\n",
    "\n",
    "Вам необходимо собирать только те статьи, в которых встречается хотя бы одно требуемое ключевое слово. Эти слова определяем в начале кода в переменной, например:\n",
    "\n",
    "KEYWORDS = ['python', 'парсинг']\n",
    "\n",
    "Поиск вести по всей доступной preview-информации (это информация, доступная непосредственно с текущей страницы).\n",
    "\n",
    "В итоге должен формироваться датафрейм вида: <дата> - <заголовок> - <ссылка>\n",
    "\n",
    "Дополнительная часть (необязательная)\n",
    "Улучшить скрипт так, чтобы он анализировал не только preview-информацию статьи, но и весь текст статьи целиком.\n",
    "\n",
    "Для этого потребуется получать страницы статей и искать по тексту внутри этой страницы.\n",
    "\n",
    "Итоговый датафрейм формировать со столбцами: <дата> - <заголовок> - <ссылка> - <текст_статьи>\n",
    "\n",
    "Задание 2.\n",
    "Обязательная часть\n",
    "Написать скрипт, который будет проверять список e-mail адресов на утечку при помощи сервиса Avast Hack Ckeck. Список email-ов задаем переменной в начале кода:\n",
    "EMAIL = [xxx@x.ru, yyy@y.com]\n",
    "\n",
    "В итоге должен формироваться датафрейм со столбцами: <дата утечки> - <источник утечки> - <описание утечки>\n",
    "\n",
    "Подсказка: сервис работает при помощи \"скрытого\" API. Внимательно изучите post-запросы.\n",
    "\n",
    "Дополнительная часть (необязательная)\n",
    "Написать скрипт, который будет получать 50 последних постов указанной группы во Вконтакте.\n",
    "Документация к API VK: https://vk.com/dev/methods , вам поможет метод wall.get\n",
    "\n",
    "GROUP = 'netology'  \n",
    "TOKEN = УДАЛЯЙТЕ В ВЕРСИИ ДЛЯ ПРОВЕРКИ, НА GITHUB НЕ ВЫКЛАДЫВАТЬ\n",
    "В итоге должен формироваться датафрейм со столбцами: <дата поста> - <текст поста>\n",
    "\n",
    "ПРИМЕЧАНИЕ\n",
    "Домашнее задание сдается ссылкой на репозиторий GitHub. Не сможем проверить или помочь, если вы пришлете:\n",
    "\n",
    "файлы;\n",
    "архивы;\n",
    "скриншоты кода.\n",
    "Все обсуждения и консультации по выполнению домашнего задания ведутся только на соответствующем канале в slack.\n",
    "\n",
    "Как правильно задавать вопросы аспирантам, преподавателям и коллегам?\n",
    "Прежде чем задать вопрос необходимо попробовать найти ответ самому в интернете. Навык самостоятельного поиска информации – один из важнейших, и каждый практикующий специалист любого уровня это делает каждый день.\n",
    "\n",
    "Любой вопрос должен быть сформулирован по алгоритму:\n",
    "1) Что я делаю?\n",
    "2) Какого результата я ожидаю?\n",
    "3) Как фактический результат отличается от ожидаемого?\n",
    "4) Что я уже попробовал сделать, чтобы исправить проблему?\n",
    "\n",
    "По возможности, прикрепляйте к вопросу скриншоты, либо ссылки на код. Оставляйте только проблемный и воспроизводимый участок кода, все решение выкладывать не допускается."
   ]
  },
  {
   "cell_type": "markdown",
   "metadata": {},
   "source": [
    "### Задание 1. Обязательная часть Будем парсить страницу со свежеми новостям на habr.com/ru/all/.\n",
    "\n",
    "### Вам необходимо собирать только те статьи, в которых встречается хотя бы одно требуемое ключевое слово. Эти слова определяем в начале кода в переменной, например:\n",
    "\n",
    "### KEYWORDS = ['python', 'парсинг']\n",
    "\n",
    "### Поиск вести по всей доступной preview-информации (это информация, доступная непосредственно с текущей страницы).\n",
    "\n",
    "### В итоге должен формироваться датафрейм вида: <дата> - <заголовок> - <ссылка>"
   ]
  },
  {
   "cell_type": "code",
   "execution_count": 5,
   "metadata": {},
   "outputs": [
    {
     "name": "stderr",
     "output_type": "stream",
     "text": [
      "<ipython-input-5-627ba5632dc1>:5: FutureWarning: Passing a negative integer is deprecated in version 1.0 and will not be supported in future version. Instead, use None to not limit the column width.\n",
      "  pd.set_option('display.max_colwidth', -1)\n"
     ]
    }
   ],
   "source": [
    "import requests\n",
    "from bs4 import BeautifulSoup\n",
    "import time\n",
    "import pandas as pd\n",
    "pd.set_option('display.max_colwidth', -1)"
   ]
  },
  {
   "cell_type": "code",
   "execution_count": 2,
   "metadata": {},
   "outputs": [],
   "source": [
    "keywords = ['python', 'парсинг']\n",
    "URL = 'https://habr.com/ru/page'"
   ]
  },
  {
   "cell_type": "code",
   "execution_count": 13,
   "metadata": {},
   "outputs": [
    {
     "data": {
      "text/plain": [
       "299"
      ]
     },
     "execution_count": 13,
     "metadata": {},
     "output_type": "execute_result"
    }
   ],
   "source": [
    "#все 50 парсить не дает...\n",
    "pages = 15\n",
    "all_links =[]\n",
    "for i in range(1, pages+1):\n",
    "    time.sleep(0.01)\n",
    "    res = requests.get(URL+str(i))\n",
    "    soup = BeautifulSoup(res.text, 'html.parser')\n",
    "    post_titles = soup.find_all('h2', class_ = 'post__title')\n",
    "    link_list = list(map(lambda x: x.find('a').get('href'), post_titles))\n",
    "    all_links.extend(link_list)\n",
    "len(all_links)\n",
    "\n",
    "    "
   ]
  },
  {
   "cell_type": "code",
   "execution_count": 14,
   "metadata": {},
   "outputs": [
    {
     "data": {
      "text/html": [
       "<div>\n",
       "<style scoped>\n",
       "    .dataframe tbody tr th:only-of-type {\n",
       "        vertical-align: middle;\n",
       "    }\n",
       "\n",
       "    .dataframe tbody tr th {\n",
       "        vertical-align: top;\n",
       "    }\n",
       "\n",
       "    .dataframe thead th {\n",
       "        text-align: right;\n",
       "    }\n",
       "</style>\n",
       "<table border=\"1\" class=\"dataframe\">\n",
       "  <thead>\n",
       "    <tr style=\"text-align: right;\">\n",
       "      <th></th>\n",
       "      <th>index</th>\n",
       "      <th>date</th>\n",
       "      <th>title</th>\n",
       "      <th>link</th>\n",
       "    </tr>\n",
       "  </thead>\n",
       "  <tbody>\n",
       "    <tr>\n",
       "      <th>0</th>\n",
       "      <td>0</td>\n",
       "      <td>2021-05-14</td>\n",
       "      <td>многоразовый шаблон логирования на python для всех ваших приложений в data science</td>\n",
       "      <td>https://habr.com/ru/company/skillfactory/blog/556942/</td>\n",
       "    </tr>\n",
       "    <tr>\n",
       "      <th>1</th>\n",
       "      <td>0</td>\n",
       "      <td>2021-05-14</td>\n",
       "      <td>погружаемся в статистику вместе с python. часть 1. z-статистика и p-value</td>\n",
       "      <td>https://habr.com/ru/post/557424/</td>\n",
       "    </tr>\n",
       "    <tr>\n",
       "      <th>2</th>\n",
       "      <td>0</td>\n",
       "      <td>2021-05-14</td>\n",
       "      <td>с помощью python создаём математические анимации, как на канале 3blue1brown</td>\n",
       "      <td>https://habr.com/ru/company/skillfactory/blog/556944/</td>\n",
       "    </tr>\n",
       "    <tr>\n",
       "      <th>3</th>\n",
       "      <td>0</td>\n",
       "      <td>2021-05-14</td>\n",
       "      <td>преобразуем проект на python в исполняемый файл .exe</td>\n",
       "      <td>https://habr.com/ru/company/vdsina/blog/557316/</td>\n",
       "    </tr>\n",
       "    <tr>\n",
       "      <th>4</th>\n",
       "      <td>0</td>\n",
       "      <td>2021-05-13</td>\n",
       "      <td>6 хитростей python, о которых никто не рассказывает новичкам</td>\n",
       "      <td>https://habr.com/ru/company/ruvds/blog/556160/</td>\n",
       "    </tr>\n",
       "    <tr>\n",
       "      <th>5</th>\n",
       "      <td>0</td>\n",
       "      <td>2021-05-13</td>\n",
       "      <td>как построить систему распознавания лиц с помощью elasticsearch и python</td>\n",
       "      <td>https://habr.com/ru/company/otus/blog/557210/</td>\n",
       "    </tr>\n",
       "    <tr>\n",
       "      <th>6</th>\n",
       "      <td>0</td>\n",
       "      <td>2021-05-13</td>\n",
       "      <td>[личная история] как живется разработчику в чехии. поиск работы, любовь к python, кнедлики и и чешское пиво</td>\n",
       "      <td>https://habr.com/ru/company/gms/blog/557120/</td>\n",
       "    </tr>\n",
       "    <tr>\n",
       "      <th>7</th>\n",
       "      <td>0</td>\n",
       "      <td>2021-05-13</td>\n",
       "      <td>пишем локер для windows на python 3.x</td>\n",
       "      <td>https://habr.com/ru/post/557134/</td>\n",
       "    </tr>\n",
       "    <tr>\n",
       "      <th>8</th>\n",
       "      <td>0</td>\n",
       "      <td>2021-05-13</td>\n",
       "      <td>запуск домашнего веб-сервера без статического ip с помощью python</td>\n",
       "      <td>https://habr.com/ru/post/557126/</td>\n",
       "    </tr>\n",
       "    <tr>\n",
       "      <th>9</th>\n",
       "      <td>0</td>\n",
       "      <td>2021-05-12</td>\n",
       "      <td>анализ банковских выписок в формате .xlsx с помощью python и openpyxl</td>\n",
       "      <td>https://habr.com/ru/post/557022/</td>\n",
       "    </tr>\n",
       "    <tr>\n",
       "      <th>10</th>\n",
       "      <td>0</td>\n",
       "      <td>2021-05-12</td>\n",
       "      <td>руководство по моему стилю тестирования на python</td>\n",
       "      <td>https://habr.com/ru/company/otus/blog/556980/</td>\n",
       "    </tr>\n",
       "    <tr>\n",
       "      <th>11</th>\n",
       "      <td>0</td>\n",
       "      <td>2021-05-12</td>\n",
       "      <td>изучаем yelp с помощью neo4j, python</td>\n",
       "      <td>https://habr.com/ru/post/556878/</td>\n",
       "    </tr>\n",
       "    <tr>\n",
       "      <th>12</th>\n",
       "      <td>0</td>\n",
       "      <td>2021-05-12</td>\n",
       "      <td>python и статистический вывод: часть 4</td>\n",
       "      <td>https://habr.com/ru/post/556856/</td>\n",
       "    </tr>\n",
       "    <tr>\n",
       "      <th>13</th>\n",
       "      <td>0</td>\n",
       "      <td>2021-05-12</td>\n",
       "      <td>python и статистический вывод: часть 3</td>\n",
       "      <td>https://habr.com/ru/post/556852/</td>\n",
       "    </tr>\n",
       "    <tr>\n",
       "      <th>14</th>\n",
       "      <td>0</td>\n",
       "      <td>2021-05-11</td>\n",
       "      <td>python и статистический вывод: часть 2</td>\n",
       "      <td>https://habr.com/ru/post/556806/</td>\n",
       "    </tr>\n",
       "    <tr>\n",
       "      <th>15</th>\n",
       "      <td>0</td>\n",
       "      <td>2021-05-11</td>\n",
       "      <td>python и статистический вывод: часть 1</td>\n",
       "      <td>https://habr.com/ru/post/556798/</td>\n",
       "    </tr>\n",
       "    <tr>\n",
       "      <th>16</th>\n",
       "      <td>0</td>\n",
       "      <td>2021-05-11</td>\n",
       "      <td>книга «python. лучшие практики и инструменты»</td>\n",
       "      <td>https://habr.com/ru/company/piter/blog/556786/</td>\n",
       "    </tr>\n",
       "    <tr>\n",
       "      <th>17</th>\n",
       "      <td>0</td>\n",
       "      <td>2021-05-11</td>\n",
       "      <td>разработка веб-приложения для транскрибирования аудиозаписей с использованием python, streamlit и assemblyai</td>\n",
       "      <td>https://habr.com/ru/company/ruvds/blog/556158/</td>\n",
       "    </tr>\n",
       "  </tbody>\n",
       "</table>\n",
       "</div>"
      ],
      "text/plain": [
       "    index        date  \\\n",
       "0   0      2021-05-14   \n",
       "1   0      2021-05-14   \n",
       "2   0      2021-05-14   \n",
       "3   0      2021-05-14   \n",
       "4   0      2021-05-13   \n",
       "5   0      2021-05-13   \n",
       "6   0      2021-05-13   \n",
       "7   0      2021-05-13   \n",
       "8   0      2021-05-13   \n",
       "9   0      2021-05-12   \n",
       "10  0      2021-05-12   \n",
       "11  0      2021-05-12   \n",
       "12  0      2021-05-12   \n",
       "13  0      2021-05-12   \n",
       "14  0      2021-05-11   \n",
       "15  0      2021-05-11   \n",
       "16  0      2021-05-11   \n",
       "17  0      2021-05-11   \n",
       "\n",
       "                                                                                                           title  \\\n",
       "0   многоразовый шаблон логирования на python для всех ваших приложений в data science                             \n",
       "1   погружаемся в статистику вместе с python. часть 1. z-статистика и p-value                                      \n",
       "2   с помощью python создаём математические анимации, как на канале 3blue1brown                                    \n",
       "3   преобразуем проект на python в исполняемый файл .exe                                                           \n",
       "4   6 хитростей python, о которых никто не рассказывает новичкам                                                   \n",
       "5   как построить систему распознавания лиц с помощью elasticsearch и python                                       \n",
       "6   [личная история] как живется разработчику в чехии. поиск работы, любовь к python, кнедлики и и чешское пиво    \n",
       "7   пишем локер для windows на python 3.x                                                                          \n",
       "8   запуск домашнего веб-сервера без статического ip с помощью python                                              \n",
       "9   анализ банковских выписок в формате .xlsx с помощью python и openpyxl                                          \n",
       "10  руководство по моему стилю тестирования на python                                                              \n",
       "11  изучаем yelp с помощью neo4j, python                                                                           \n",
       "12  python и статистический вывод: часть 4                                                                         \n",
       "13  python и статистический вывод: часть 3                                                                         \n",
       "14  python и статистический вывод: часть 2                                                                         \n",
       "15  python и статистический вывод: часть 1                                                                         \n",
       "16  книга «python. лучшие практики и инструменты»                                                                  \n",
       "17  разработка веб-приложения для транскрибирования аудиозаписей с использованием python, streamlit и assemblyai   \n",
       "\n",
       "                                                     link  \n",
       "0   https://habr.com/ru/company/skillfactory/blog/556942/  \n",
       "1   https://habr.com/ru/post/557424/                       \n",
       "2   https://habr.com/ru/company/skillfactory/blog/556944/  \n",
       "3   https://habr.com/ru/company/vdsina/blog/557316/        \n",
       "4   https://habr.com/ru/company/ruvds/blog/556160/         \n",
       "5   https://habr.com/ru/company/otus/blog/557210/          \n",
       "6   https://habr.com/ru/company/gms/blog/557120/           \n",
       "7   https://habr.com/ru/post/557134/                       \n",
       "8   https://habr.com/ru/post/557126/                       \n",
       "9   https://habr.com/ru/post/557022/                       \n",
       "10  https://habr.com/ru/company/otus/blog/556980/          \n",
       "11  https://habr.com/ru/post/556878/                       \n",
       "12  https://habr.com/ru/post/556856/                       \n",
       "13  https://habr.com/ru/post/556852/                       \n",
       "14  https://habr.com/ru/post/556806/                       \n",
       "15  https://habr.com/ru/post/556798/                       \n",
       "16  https://habr.com/ru/company/piter/blog/556786/         \n",
       "17  https://habr.com/ru/company/ruvds/blog/556158/         "
      ]
     },
     "execution_count": 14,
     "metadata": {},
     "output_type": "execute_result"
    }
   ],
   "source": [
    "habr_news = pd.DataFrame()\n",
    "for word in keywords:\n",
    "    for link in all_links:\n",
    "        time.sleep(0.01)\n",
    "        soup = BeautifulSoup(requests.get(link).text, 'html.parser')\n",
    "        if word in soup.find('h1', class_='post__title post__title_full').text.lower().strip('\\n'):\n",
    "            title = soup.find('h1', class_='post__title post__title_full').text.lower().strip('\\n')\n",
    "            date = pd.to_datetime(soup.find('span', class_='post__time').get('data-time_published'), dayfirst=True).date()\n",
    "            row = {'date': date, 'title': title, 'link': link}\n",
    "            habr_news = pd.concat([habr_news, pd.DataFrame([row])]) \n",
    "habr_news.reset_index()"
   ]
  },
  {
   "cell_type": "markdown",
   "metadata": {},
   "source": [
    "### Задание 2. Обязательная часть Написать скрипт, который будет проверять список e-mail адресов на утечку при помощи сервиса Avast Hack Ckeck. Список email-ов задаем переменной в начале кода: EMAIL = [xxx@x.ru, yyy@y.com]\n",
    "\n",
    "### В итоге должен формироваться датафрейм со столбцами: <дата утечки> - <источник утечки> - <описание утечки>\n",
    "\n",
    "### Подсказка: сервис работает при помощи \"скрытого\" API. Внимательно изучите post-запросы."
   ]
  },
  {
   "cell_type": "code",
   "execution_count": 98,
   "metadata": {},
   "outputs": [],
   "source": [
    "email = {'emailAdresses': ['bborusik@gmail.com']}"
   ]
  },
  {
   "cell_type": "code",
   "execution_count": 99,
   "metadata": {},
   "outputs": [],
   "source": [
    "url = 'https://identityprotection.avast.com/v1/web/query/site-breaches/unauthorized-data'"
   ]
  },
  {
   "cell_type": "code",
   "execution_count": 100,
   "metadata": {},
   "outputs": [],
   "source": [
    "headers = {\n",
    "    'Vaar-Version': '0',\n",
    "    'Vaar-Header-App-Product-Name': 'hackcheck-web-avast',\n",
    "    'Vaar-Header-App-Build-Version': '1.0.0'\n",
    "}"
   ]
  },
  {
   "cell_type": "code",
   "execution_count": 101,
   "metadata": {},
   "outputs": [],
   "source": [
    "r = requests.post(url=url,\n",
    "                  json=email,\n",
    "                  headers=headers)"
   ]
  },
  {
   "cell_type": "code",
   "execution_count": 102,
   "metadata": {},
   "outputs": [
    {
     "data": {
      "text/plain": [
       "200"
      ]
     },
     "execution_count": 102,
     "metadata": {},
     "output_type": "execute_result"
    }
   ],
   "source": [
    "r.status_code"
   ]
  },
  {
   "cell_type": "code",
   "execution_count": 103,
   "metadata": {},
   "outputs": [
    {
     "data": {
      "text/plain": [
       "'null'"
      ]
     },
     "execution_count": 103,
     "metadata": {},
     "output_type": "execute_result"
    }
   ],
   "source": [
    "r.text"
   ]
  },
  {
   "cell_type": "code",
   "execution_count": 106,
   "metadata": {},
   "outputs": [],
   "source": [
    "# второе задание сделать не могу... весь slack выгуглил, про смену ip читал, но не знаю, как его поменять. Выдает 'null'\n",
    "# делать цикл для нескольких адресов и заворачивать в датафрейм смысла нет, т.к. не получен нужный отклик с сайта по 1 адресу."
   ]
  },
  {
   "cell_type": "code",
   "execution_count": null,
   "metadata": {},
   "outputs": [],
   "source": []
  }
 ],
 "metadata": {
  "kernelspec": {
   "display_name": "Python 3",
   "language": "python",
   "name": "python3"
  },
  "language_info": {
   "codemirror_mode": {
    "name": "ipython",
    "version": 3
   },
   "file_extension": ".py",
   "mimetype": "text/x-python",
   "name": "python",
   "nbconvert_exporter": "python",
   "pygments_lexer": "ipython3",
   "version": "3.8.5"
  }
 },
 "nbformat": 4,
 "nbformat_minor": 4
}
