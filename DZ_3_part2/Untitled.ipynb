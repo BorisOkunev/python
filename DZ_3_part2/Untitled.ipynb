{
 "cells": [
  {
   "cell_type": "code",
   "execution_count": 1,
   "metadata": {},
   "outputs": [],
   "source": [
    "some_oxy_text = '''\n",
    "Весь мой рэп, если коротко, про то, что\n",
    "Уж который год который город под подошвой\n",
    "В гору, когда прет. Потом под гору, когда тошно\n",
    "Я не то, что Гулливер, но все же город под подошвой\n",
    "Город под подошвой, город под подошвой\n",
    "Светофоры, госпошлины, сборы и таможни\n",
    "Я не знаю, вброд или на дно эта дорожка\n",
    "Ты живешь под каблуком, у меня - город под подошвой\n",
    "'''"
   ]
  },
  {
   "cell_type": "code",
   "execution_count": 2,
   "metadata": {},
   "outputs": [],
   "source": [
    "res = {}\n"
   ]
  },
  {
   "cell_type": "code",
   "execution_count": 3,
   "metadata": {},
   "outputs": [
    {
     "data": {
      "text/plain": [
       "'\\nВесь мой рэп, если коротко, про то, что\\nУж который год который город под подошвой\\nВ гору, когда прет. Потом под гору, когда тошно\\nЯ не то, что Гулливер, но все же город под подошвой\\nГород под подошвой, город под подошвой\\nСветофоры, госпошлины, сборы и таможни\\nЯ не знаю, вброд или на дно эта дорожка\\nТы живешь под каблуком, у меня - город под подошвой\\n'"
      ]
     },
     "execution_count": 3,
     "metadata": {},
     "output_type": "execute_result"
    }
   ],
   "source": [
    "some_oxy_text"
   ]
  },
  {
   "cell_type": "code",
   "execution_count": 5,
   "metadata": {},
   "outputs": [],
   "source": [
    "some_splitted_oxy_text = some_oxy_text.split()"
   ]
  },
  {
   "cell_type": "code",
   "execution_count": 6,
   "metadata": {},
   "outputs": [
    {
     "data": {
      "text/plain": [
       "['Весь',\n",
       " 'мой',\n",
       " 'рэп,',\n",
       " 'если',\n",
       " 'коротко,',\n",
       " 'про',\n",
       " 'то,',\n",
       " 'что',\n",
       " 'Уж',\n",
       " 'который',\n",
       " 'год',\n",
       " 'который',\n",
       " 'город',\n",
       " 'под',\n",
       " 'подошвой',\n",
       " 'В',\n",
       " 'гору,',\n",
       " 'когда',\n",
       " 'прет.',\n",
       " 'Потом',\n",
       " 'под',\n",
       " 'гору,',\n",
       " 'когда',\n",
       " 'тошно',\n",
       " 'Я',\n",
       " 'не',\n",
       " 'то,',\n",
       " 'что',\n",
       " 'Гулливер,',\n",
       " 'но',\n",
       " 'все',\n",
       " 'же',\n",
       " 'город',\n",
       " 'под',\n",
       " 'подошвой',\n",
       " 'Город',\n",
       " 'под',\n",
       " 'подошвой,',\n",
       " 'город',\n",
       " 'под',\n",
       " 'подошвой',\n",
       " 'Светофоры,',\n",
       " 'госпошлины,',\n",
       " 'сборы',\n",
       " 'и',\n",
       " 'таможни',\n",
       " 'Я',\n",
       " 'не',\n",
       " 'знаю,',\n",
       " 'вброд',\n",
       " 'или',\n",
       " 'на',\n",
       " 'дно',\n",
       " 'эта',\n",
       " 'дорожка',\n",
       " 'Ты',\n",
       " 'живешь',\n",
       " 'под',\n",
       " 'каблуком,',\n",
       " 'у',\n",
       " 'меня',\n",
       " '-',\n",
       " 'город',\n",
       " 'под',\n",
       " 'подошвой']"
      ]
     },
     "execution_count": 6,
     "metadata": {},
     "output_type": "execute_result"
    }
   ],
   "source": [
    "some_splitted_oxy_text"
   ]
  },
  {
   "cell_type": "markdown",
   "metadata": {},
   "source": [
    "новая задачка\n"
   ]
  },
  {
   "cell_type": "code",
   "execution_count": 7,
   "metadata": {},
   "outputs": [],
   "source": [
    "data = [    [13, 25, 23, 34],    [45, 32, 44, 47],    [12, 33, 23, 95],    [13, 53, 34, 35]]"
   ]
  },
  {
   "cell_type": "code",
   "execution_count": 8,
   "metadata": {},
   "outputs": [
    {
     "data": {
      "text/plain": [
       "[[13, 25, 23, 34], [45, 32, 44, 47], [12, 33, 23, 95], [13, 53, 34, 35]]"
      ]
     },
     "execution_count": 8,
     "metadata": {},
     "output_type": "execute_result"
    }
   ],
   "source": [
    "data"
   ]
  },
  {
   "cell_type": "code",
   "execution_count": 10,
   "metadata": {},
   "outputs": [
    {
     "data": {
      "text/plain": [
       "103"
      ]
     },
     "execution_count": 10,
     "metadata": {},
     "output_type": "execute_result"
    }
   ],
   "source": [
    "sum([data[i][i] for i in range(len(data))])        "
   ]
  },
  {
   "cell_type": "code",
   "execution_count": null,
   "metadata": {},
   "outputs": [],
   "source": []
  }
 ],
 "metadata": {
  "kernelspec": {
   "display_name": "Python 3",
   "language": "python",
   "name": "python3"
  },
  "language_info": {
   "codemirror_mode": {
    "name": "ipython",
    "version": 3
   },
   "file_extension": ".py",
   "mimetype": "text/x-python",
   "name": "python",
   "nbconvert_exporter": "python",
   "pygments_lexer": "ipython3",
   "version": "3.8.5"
  }
 },
 "nbformat": 4,
 "nbformat_minor": 4
}
