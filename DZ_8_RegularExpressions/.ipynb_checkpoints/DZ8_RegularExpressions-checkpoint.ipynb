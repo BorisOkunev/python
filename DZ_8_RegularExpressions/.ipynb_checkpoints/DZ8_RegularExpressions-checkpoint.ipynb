{
 "cells": [
  {
   "cell_type": "markdown",
   "metadata": {},
   "source": [
    "Задание 1\n",
    "Напишите функцию, которая принимает на вход строку и проверяет является ли она валидным транспортным номером (1 буква, 3 цифры, 2 буквы, 2-3 цифры). Обратите внимание, что не все буквы кириллического алфавита используются в транспортных номерах.\n",
    "\n",
    "Если номер валиден, то функция должна возвращать отдельно номер и регион.\n",
    "\n",
    "Примеры работы программы:\n",
    "\n",
    "car_id = 'АВ222С96’\n",
    "Результат: Номер АВ222С валиден. Регион: 96\n",
    "\n",
    "car_id = 'АБ22ВВ193’\n",
    "Результат: Номер не валиден\n",
    "\n",
    "\n",
    "Доп инфа: + - На автомобильных номерных знаках в России используются только те буквы, которые присутствуют и в кириллице, и в латинице. Таких букв только 12 — А, В, Е, К, М, Н, О, Р, С, Т, У, Х. Подобное ограничение регулируется венской Конвенцией о дорожном движении 1968 года."
   ]
  },
  {
   "cell_type": "code",
   "execution_count": 197,
   "metadata": {},
   "outputs": [],
   "source": [
    "import re\n",
    "def avtonum_check(car_id):\n",
    "    validation_result = re.findall('^[АВЕКМНОРСТУХABEKMHOPCTYXавекмнортухaeoyx]\\d{3}[АВЕКМНОРСТУХABEKMHOPCTYXавекмнортухaeoyx]{2}\\d{2,3}$', car_id)\n",
    "    if validation_result == []:\n",
    "        print(f'Номер {car_id} не валиден!')\n",
    "    else:\n",
    "        region = re.search('(^[АВЕКМНОРСТУХABEKMHOPCTYXавекмнортухaeoyx])(\\d{3})([АВЕКМНОРСТУХABEKMHOPCTYXавекмнортухaeoyx]{2})(\\d{2,3})', car_id).group(4)\n",
    "        car_id_print = re.search('(^[АВЕКМНОРСТУХ|ABEKMHOPCTYXавекмнортухaeoyx])(\\d{3})([АВЕКМНОРСТУХABEKMHOPCTYXавекмнортухaeoyx]{2})', car_id).group()\n",
    "        print(f'Номер {car_id_print} валиден! Регион: {region}')\n",
    "    return"
   ]
  },
  {
   "cell_type": "code",
   "execution_count": 198,
   "metadata": {},
   "outputs": [
    {
     "name": "stdout",
     "output_type": "stream",
     "text": [
      "Номер А199АВ валиден! Регион: 19\n"
     ]
    }
   ],
   "source": [
    "avtonum_check('А199АВ19')"
   ]
  },
  {
   "cell_type": "code",
   "execution_count": 199,
   "metadata": {},
   "outputs": [
    {
     "name": "stdout",
     "output_type": "stream",
     "text": [
      "Номер a199ae валиден! Регион: 199\n"
     ]
    }
   ],
   "source": [
    "avtonum_check('a199ae199')"
   ]
  },
  {
   "cell_type": "code",
   "execution_count": 200,
   "metadata": {},
   "outputs": [
    {
     "name": "stdout",
     "output_type": "stream",
     "text": [
      "Номер x520xx валиден! Регион: 988\n"
     ]
    }
   ],
   "source": [
    "avtonum_check('x520xx988')"
   ]
  },
  {
   "cell_type": "code",
   "execution_count": 201,
   "metadata": {},
   "outputs": [
    {
     "name": "stdout",
     "output_type": "stream",
     "text": [
      "Номер Я520ЯЯ99 не валиден!\n"
     ]
    }
   ],
   "source": [
    "avtonum_check('Я520ЯЯ99')"
   ]
  },
  {
   "cell_type": "markdown",
   "metadata": {},
   "source": [
    "Конец задания 1. P.S. Вижу, что решение не оптимально. (не нашел в интернете как лучше осуществлять сравнение без учета регистра). Поэтому просто перечислил вручную (те ВОЗМОЖНЫЕ случаи, когда вводят в английской раскладке вперемешку с русской и/или без учета регистра). Также алгоритм не учитывает возможность ввода номера с пробелами в начале и конце."
   ]
  },
  {
   "cell_type": "markdown",
   "metadata": {},
   "source": [
    "Задание 2\n",
    "Напишите функцию, которая будет удалять все последовательные повторы слов из заданной строки при помощи регулярных выражений.\n",
    "\n",
    "Пример работы программы:\n",
    "\n",
    "some_string = 'Напишите функцию функцию, которая будет будет будет будет удалять все все все все последовательные повторы слов из из из из заданной строки строки при помощи регулярных выражений'\n",
    "\n",
    "Результат: Напишите функцию, которая будет удалять все последовательные повторы слов из заданной строки при помощи регулярных выражений."
   ]
  },
  {
   "cell_type": "code",
   "execution_count": 202,
   "metadata": {},
   "outputs": [],
   "source": [
    "some_string = 'Напишите функцию функцию, которая будет будет будет будет удалять все все все все последовательные повторы слов из из из из заданной строки строки при помощи регулярных выражений'\n"
   ]
  },
  {
   "cell_type": "code",
   "execution_count": 203,
   "metadata": {},
   "outputs": [],
   "source": [
    "import re\n",
    "def sub_rep(some_string_):\n",
    "    result = re.sub(r'(\\w+\\s)\\1+', r'\\1', some_string_)\n",
    "    return(result)"
   ]
  },
  {
   "cell_type": "code",
   "execution_count": 204,
   "metadata": {},
   "outputs": [
    {
     "data": {
      "text/plain": [
       "'Напишите функцию функцию, которая будет удалять все последовательные повторы слов из заданной строки при помощи регулярных выражений'"
      ]
     },
     "execution_count": 204,
     "metadata": {},
     "output_type": "execute_result"
    }
   ],
   "source": [
    "sub_rep(some_string)"
   ]
  },
  {
   "cell_type": "markdown",
   "metadata": {},
   "source": [
    "Конец задания 2!"
   ]
  },
  {
   "cell_type": "markdown",
   "metadata": {},
   "source": [
    "Задание 3\n",
    "Напишите функцию, которая будет возвращать акроним по переданной в нее строке со словами.\n",
    "\n",
    "Примеры работы программы:\n",
    "\n",
    "some_words = 'Информационные технологии'\n",
    "Результат: ИТ\n",
    "\n",
    "some_words = 'Near Field Communication'\n",
    "Результат: NFC\n",
    "\n",
    "Для справки: Акро́ним (от др.-греч. άκρος «высший; крайний; здесь в значении начальный» + όνυμα (в эолийском и дорийском (дорическом) диалектах) «имя, название») — вид аббревиатуры. Акронимы образуются начальными звуками (например вуз, ТАСС, БАМ). Фактически, акроним представляет собой слово, являющееся сокращением, которое можно произнести слитно, в отличие от других видов аббревиатур, которые произносят «по буквам», например: КГБ — [ка-гэ-бэ], МВД — [эм-вэ-дэ][источник не указан 1006 дней]. Некоторые акронимы (например: лазер, вуз) фактически стали самостоятельными словами и употребляются как существительные с применением соответствующих падежей русского языка (вуз, вуза, вузу и т. п.), хотя это неприменимо к некоторым акронимам (обычно среднего рода)[источник не указан 1006 дней]."
   ]
  },
  {
   "cell_type": "code",
   "execution_count": 205,
   "metadata": {},
   "outputs": [],
   "source": [
    "some_words = 'Информационные технологии'"
   ]
  },
  {
   "cell_type": "code",
   "execution_count": 206,
   "metadata": {},
   "outputs": [],
   "source": [
    "import re\n",
    "def find_acronim(some_words_):\n",
    "    acronim_pattern = re.findall(r'(\\w)\\w+', some_words_)\n",
    "    acronim =''.join(acronim_pattern).upper()\n",
    "    print(acronim)"
   ]
  },
  {
   "cell_type": "code",
   "execution_count": 207,
   "metadata": {},
   "outputs": [
    {
     "name": "stdout",
     "output_type": "stream",
     "text": [
      "ИТ\n"
     ]
    }
   ],
   "source": [
    "find_acronim(some_words)"
   ]
  },
  {
   "cell_type": "code",
   "execution_count": 208,
   "metadata": {},
   "outputs": [
    {
     "name": "stdout",
     "output_type": "stream",
     "text": [
      "NFC\n"
     ]
    }
   ],
   "source": [
    "some_words1 = 'Near Field Communication'\n",
    "find_acronim(some_words1)"
   ]
  },
  {
   "cell_type": "code",
   "execution_count": 209,
   "metadata": {},
   "outputs": [
    {
     "name": "stdout",
     "output_type": "stream",
     "text": [
      "ДДММРФUUSOA\n"
     ]
    }
   ],
   "source": [
    "find_acronim('Департамент Департаментов министерства министерств Российской Федерации и Union Unions States of America')"
   ]
  },
  {
   "cell_type": "markdown",
   "metadata": {},
   "source": [
    "Конец задания 3!"
   ]
  },
  {
   "cell_type": "markdown",
   "metadata": {},
   "source": [
    "Задание 4\n",
    "Напишите функцию, которая будет принимать на вход список email-адресов и выводить их распределение по доменным зонам.\n",
    "\n",
    "Пример работы программы:\n",
    "\n",
    "emails = ['test@gmail.com, xyz@test.in, test@ya.ru, xyz@mail.ru, xyz@ya.ru', xyz@gmail.com]\n",
    "\n",
    "Результат:\n",
    "\n",
    "gmail.com: 2\n",
    "test.in: 1 \n",
    "ya.ru: 2 \n",
    "mail.ru: 1"
   ]
  },
  {
   "cell_type": "code",
   "execution_count": 213,
   "metadata": {},
   "outputs": [],
   "source": [
    "emails = ['test@gmail.com, xyz@test.in, test@ya.ru, xyz@mail.ru, xyz@ya.ru, xyz@gmail.com']"
   ]
  },
  {
   "cell_type": "code",
   "execution_count": 214,
   "metadata": {},
   "outputs": [],
   "source": [
    "import re\n",
    "def domain_statistics(emails_):\n",
    "    emails_str = ''.join(emails_)\n",
    "    domains = re.findall(r'(?<=@)\\w+(?=.)\\.(?<=.)\\w+', emails_str)\n",
    "    counter = {}\n",
    "    for item in domains:\n",
    "        counter[item] = counter.get(item,0) + 1\n",
    "    statistics = {element: count for element, count in counter.items()}\n",
    "    print(\"\\n\".join('{}: {}'.format(k, v) for k, v in statistics.items()))"
   ]
  },
  {
   "cell_type": "code",
   "execution_count": 215,
   "metadata": {},
   "outputs": [
    {
     "name": "stdout",
     "output_type": "stream",
     "text": [
      "gmail.com: 2\n",
      "test.in: 1\n",
      "ya.ru: 2\n",
      "mail.ru: 1\n"
     ]
    }
   ],
   "source": [
    "domain_statistics(emails)"
   ]
  },
  {
   "cell_type": "markdown",
   "metadata": {},
   "source": [
    "Конец задания 4!"
   ]
  }
 ],
 "metadata": {
  "kernelspec": {
   "display_name": "Python 3",
   "language": "python",
   "name": "python3"
  },
  "language_info": {
   "codemirror_mode": {
    "name": "ipython",
    "version": 3
   },
   "file_extension": ".py",
   "mimetype": "text/x-python",
   "name": "python",
   "nbconvert_exporter": "python",
   "pygments_lexer": "ipython3",
   "version": "3.8.5"
  }
 },
 "nbformat": 4,
 "nbformat_minor": 4
}
