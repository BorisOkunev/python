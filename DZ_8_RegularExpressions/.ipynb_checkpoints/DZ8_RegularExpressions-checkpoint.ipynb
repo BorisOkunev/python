{
 "cells": [
  {
   "cell_type": "markdown",
   "metadata": {},
   "source": [
    "Задание 1\n",
    "Напишите функцию, которая принимает на вход строку и проверяет является ли она валидным транспортным номером (1 буква, 3 цифры, 2 буквы, 2-3 цифры). Обратите внимание, что не все буквы кириллического алфавита используются в транспортных номерах.\n",
    "\n",
    "Если номер валиден, то функция должна возвращать отдельно номер и регион.\n",
    "\n",
    "Примеры работы программы:\n",
    "\n",
    "car_id = 'АВ222С96’\n",
    "Результат: Номер АВ222С валиден. Регион: 96\n",
    "\n",
    "car_id = 'АБ22ВВ193’\n",
    "Результат: Номер не валиден\n",
    "\n",
    "\n",
    "Доп инфа: + - На автомобильных номерных знаках в России используются только те буквы, которые присутствуют и в кириллице, и в латинице. Таких букв только 12 — А, В, Е, К, М, Н, О, Р, С, Т, У, Х. Подобное ограничение регулируется венской Конвенцией о дорожном движении 1968 года."
   ]
  },
  {
   "cell_type": "code",
   "execution_count": 1,
   "metadata": {},
   "outputs": [],
   "source": [
    "import re\n",
    "def avtonum_check(car_id):\n",
    "    validation_result = re.findall('^[АВЕКМНОРСТУХABEKMHOPCTYXавекмнортухaeoyx]\\d{3}[АВЕКМНОРСТУХABEKMHOPCTYXавекмнортухaeoyx]{2}\\d{2,3}$', car_id)\n",
    "    if validation_result == []:\n",
    "        print(f'Номер {car_id} не валиден!')\n",
    "    else:\n",
    "        region = re.search('(^[АВЕКМНОРСТУХABEKMHOPCTYXавекмнортухaeoyx])(\\d{3})([АВЕКМНОРСТУХABEKMHOPCTYXавекмнортухaeoyx]{2})(\\d{2,3})', car_id).group(4)\n",
    "        car_id_print = re.search('(^[АВЕКМНОРСТУХ|ABEKMHOPCTYXавекмнортухaeoyx])(\\d{3})([АВЕКМНОРСТУХABEKMHOPCTYXавекмнортухaeoyx]{2})', car_id).group()\n",
    "        print(f'Номер {car_id_print} валиден! Регион: {region}')\n",
    "    return"
   ]
  },
  {
   "cell_type": "code",
   "execution_count": 2,
   "metadata": {},
   "outputs": [
    {
     "name": "stdout",
     "output_type": "stream",
     "text": [
      "Номер А199АВ валиден! Регион: 19\n"
     ]
    }
   ],
   "source": [
    "avtonum_check('А199АВ19')"
   ]
  },
  {
   "cell_type": "code",
   "execution_count": 3,
   "metadata": {},
   "outputs": [
    {
     "name": "stdout",
     "output_type": "stream",
     "text": [
      "Номер a199ae валиден! Регион: 199\n"
     ]
    }
   ],
   "source": [
    "avtonum_check('a199ae199')"
   ]
  },
  {
   "cell_type": "code",
   "execution_count": 4,
   "metadata": {},
   "outputs": [
    {
     "name": "stdout",
     "output_type": "stream",
     "text": [
      "Номер x520xx валиден! Регион: 988\n"
     ]
    }
   ],
   "source": [
    "avtonum_check('x520xx988')"
   ]
  },
  {
   "cell_type": "code",
   "execution_count": 6,
   "metadata": {},
   "outputs": [
    {
     "name": "stdout",
     "output_type": "stream",
     "text": [
      "Номер Я520ЯЯ99 не валиден!\n"
     ]
    }
   ],
   "source": [
    "avtonum_check('Я520ЯЯ99')"
   ]
  },
  {
   "cell_type": "markdown",
   "metadata": {},
   "source": [
    "Конец задания 1. P.S. Вижу, что решение не оптимально. (не нашел в интернете как лучше осуществлять сравнение без учета регистра). Поэтому просто перечислил вручную (те ВОЗМОЖНЫЕ случаи, когда вводят в английской раскладке вперемешку с русской и/или без учета регистра). Также алгоритм не учитывает возможность ввода номера с пробелами в начале и конце."
   ]
  },
  {
   "cell_type": "code",
   "execution_count": null,
   "metadata": {},
   "outputs": [],
   "source": []
  },
  {
   "cell_type": "code",
   "execution_count": null,
   "metadata": {},
   "outputs": [],
   "source": []
  }
 ],
 "metadata": {
  "kernelspec": {
   "display_name": "Python 3",
   "language": "python",
   "name": "python3"
  },
  "language_info": {
   "codemirror_mode": {
    "name": "ipython",
    "version": 3
   },
   "file_extension": ".py",
   "mimetype": "text/x-python",
   "name": "python",
   "nbconvert_exporter": "python",
   "pygments_lexer": "ipython3",
   "version": "3.8.5"
  }
 },
 "nbformat": 4,
 "nbformat_minor": 4
}
