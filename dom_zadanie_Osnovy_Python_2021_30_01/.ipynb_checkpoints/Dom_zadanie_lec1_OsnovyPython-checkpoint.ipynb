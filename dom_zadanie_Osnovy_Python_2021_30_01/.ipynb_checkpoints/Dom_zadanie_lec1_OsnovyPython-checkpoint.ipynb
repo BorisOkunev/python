{
 "cells": [
  {
   "cell_type": "markdown",
   "metadata": {},
   "source": [
    "Домашнее задание к лекции \"Основы Python\""
   ]
  },
  {
   "cell_type": "markdown",
   "metadata": {},
   "source": [
    "Задание 1\n",
    "Даны 2 переменных, в которых хранятся строки произвольной длины: phrase_1 и phrase_2.\n",
    "Напишите код, который проверяет какая из этих строк длиннее.\n",
    "\n",
    "Примеры работы программы:\n",
    "phrase_1 = 'Насколько проще было бы писать программы, если бы не заказчики'\n",
    "phrase_2 = '640Кб должно хватить для любых задач. Билл Гейтс (по легенде)'\n",
    "Результат:\n",
    "Фраза 1 длиннее фразы 2\n",
    "\n",
    "phrase_1 = '640Кб должно хватить для любых задач. Билл Гейтс (по легенде)'\n",
    "phrase_2 = 'Насколько проще было бы писать программы, если бы не заказчики'\n",
    "Результат:\n",
    "Фраза 2 длиннее фразы 1\n",
    "\n",
    "phrase_1 = 'Насколько проще было бы писать программы, если бы не заказчики'\n",
    "phrase_2 = 'Насколько проще было бы писать программы, если бы не заказчики'\n",
    "Результат:\n",
    "Фразы равной длины\n",
    "\n"
   ]
  },
  {
   "cell_type": "code",
   "execution_count": null,
   "metadata": {},
   "outputs": [],
   "source": [
    "#ввод исходных данных\n",
    "phraze1 = input('Введите Фразу 1   ')\n",
    "print('Фраза 1: ', phraze1)\n",
    "phraze2 = input('Введите Фразу 2   ')\n",
    "print('Фраза 2: ', phraze2)\n",
    "#условные конструкции\n",
    "lenght1 = len(phraze1)\n",
    "lenght1\n",
    "if len(phraze1) > len(phraze2):\n",
    "    print('Фраза 1 длиннее, чем Фраза 2 на', len(phraze1) - len(phraze2), 'знаков, включая пробелы.')\n",
    "elif len(phraze1) == len(phraze2):\n",
    "    print('Фразы 1 и 2 равны по длинне')\n",
    "elif len(phraze1) < len(phraze2):\n",
    "    print('Фраза 2 длиннее, чем Фраза 1 на', len(phraze2) - len(phraze1), 'знаков, включая пробелы.')\n",
    "else:\n",
    "    print('Фразы не удалось сравнить')\n",
    "print ('Конец программы!')    "
   ]
  },
  {
   "cell_type": "markdown",
   "metadata": {},
   "source": [
    "Задание 2\n",
    "Дана переменная, в которой хранится четырехзначное число (год). Необходимо написать программу, которая выведет, является ли данный год високосным или обычным.\n",
    "\n",
    "Пример работы программы:\n",
    "\n",
    "year = 2020\n",
    "Результат:\n",
    "Високосный год\n",
    "\n",
    "year = 2019\n",
    "Результат:\n",
    "Обычный год"
   ]
  },
  {
   "cell_type": "markdown",
   "metadata": {},
   "source": [
    "Решение: Чтобы определить, високосный год или нет, надо поделить номер года на 4 (если номер года заканчивается на два нуля, то на 400). Если делится без остатка, значит год является високосным, а если с остатком - то обычным, невисокосным. Пример для 2019 года: 2019 / 4 = 504,75."
   ]
  },
  {
   "cell_type": "code",
   "execution_count": 5,
   "metadata": {},
   "outputs": [
    {
     "name": "stdout",
     "output_type": "stream",
     "text": [
      "Введите год_четыре цифры: 2020\n",
      "2020 -й год - високосный\n",
      "Конец программы!\n"
     ]
    }
   ],
   "source": [
    "year = int(input (\"Введите год_четыре цифры: \"))\n",
    "if year%4 != 0 or (year%100 == 0 and year%400 != 0) :\n",
    "    print(year,'-й год - обычный')\n",
    "else:\n",
    "    print(year,'-й год - високосный')\n",
    "print ('Конец программы!') "
   ]
  },
  {
   "cell_type": "markdown",
   "metadata": {},
   "source": [
    "Задание 3\n",
    "Необходимо написать программу, которая будет запрашивать у пользователя месяц и дату рождения и выводить соответствующий знак зодиака.\n",
    "Пример работы программы:\n",
    "Введите день:\n",
    "30\n",
    "Введите месяц:\n",
    "Август\n",
    "Результат:\n",
    "Ваш знак зодиака: Дева\n",
    "Введите день:\n",
    "29\n",
    "Введите месяц:\n",
    "Октябрь\n",
    "Результат:\n",
    "Ваш знак зодиака: Скорпион"
   ]
  },
  {
   "cell_type": "code",
   "execution_count": 7,
   "metadata": {},
   "outputs": [
    {
     "name": "stdout",
     "output_type": "stream",
     "text": [
      "Введите день_число от 1 до 31:\n",
      " 12\n",
      "Введите название месяца_полностью_с учетом регистра:\n",
      " Апрель\n",
      "Знак зодиака: Овен\n",
      "Конец программы!\n"
     ]
    }
   ],
   "source": [
    "date=int(input(\"Введите день_число от 1 до 31:\\n \"))\n",
    "month=input(\"Введите название месяца_полностью_с учетом регистра:\\n \")\n",
    "if (date>=21 and date<=31 and month=='Март') or ( month=='Апрель' and date>=1 and date<=19):\n",
    "   print(\"Знак зодиака: Овен\")\n",
    "elif (date>=20 and date<=30 and month=='Апрель') or ( month=='Май' and date>=1 and date<=20):\n",
    "   print(\"Знак зодиака:Телец\")\n",
    "elif (date>=21 and date<=31 and month=='Май') or( month=='Июнь' and date>=1 and date<=21):\n",
    "   print(\"Знак зодиака:Близнецы\")\n",
    "elif (date>=22 and date<=30 and month=='Июнь') or( month=='Июль' and date>=1 and date<=22):\n",
    "   print(\"Знак зодиака:Рак\")\n",
    "elif (date>=23 and date<=31 and month=='Июнь') or( month=='Август' and date>=1 and date<=22):\n",
    "   print(\"Знак зодиака:Лев\")\n",
    "elif (date>=23 and date<=31 and month=='Август') or( month=='Сентябрь' and date>=1 and date<=22):\n",
    "   print(\"Знак зодиака:Дева\")\n",
    "elif (date>=23 and date<=30 and month=='Сентябрь') or( month=='Октябрь' and date>=1 and date<=23):\n",
    "   print(\"Знак зодиака:Весы\")\n",
    "elif (date>=24 and date<=31 and month=='Октябрь') or( month=='Ноябрь' and date>=1 and date<=22):\n",
    "   print(\"Знак зодиака:Скорпион\")\n",
    "elif (date>=23 and date<=30 and month=='Ноябрь') or( month=='Декабрь'and date>=1 and date<=21):\n",
    "   print(\"Знак зодиака:Стрелец\")\n",
    "elif (date>=22 and date<=31 and month=='Декабрь') or( month=='Январь' and date>=1 and date<=20):\n",
    "   print(\"Знак зодиака:Козерог\")\n",
    "elif (date>=21 and date<=31 and month=='Январь') or( month=='Февраль' and date>=1 and date<=18):\n",
    "   print(\"Знак зодиака:Водолей\")\n",
    "elif (date>=19 and date<=29 and month=='Февраль') or( month=='Март' and date>=1 and date<=20):\n",
    "   print(\"Результат:\\nЗнак зодиака:Рыбы\")\n",
    "else:\n",
    "        print(\"Проверьте корректность введенных дня и месяца рождения!\")\n",
    "print(\"Конец программы!\")"
   ]
  },
  {
   "cell_type": "markdown",
   "metadata": {},
   "source": [
    "Задание 4\n",
    "Вам нужно написать программу для подбора упаковок по размерам товара. Размеры (ширина, длина, высота) хранятся в переменных (в сантиметрах):\n",
    "\n",
    "Используйте следующие правила:\n",
    "\n",
    "если каждое из трех измерений менее 15 сантиметров, то выведите на экран \"Коробка №1\";\n",
    "если хотя бы одно из измерений больше 15 сантиметров, но менее 50 сантиметров, то выводите \"Коробка №2\";\n",
    "если длина товара больше 2 метров, то выводите \"Упаковка для лыж\";\n",
    "во всех остальных случаях выводите \"Стандартная коробка №3\".\n",
    "Пример работы программы:\n",
    "\n",
    "width = 15\n",
    "length = 50\n",
    "height = 15\n",
    "Результат:\n",
    "Стандартная коробка №3\n",
    "\n",
    "width = 45\n",
    "length = 205\n",
    "height = 45\n",
    "Результат:\n",
    "Ищите упаковку для лыж"
   ]
  },
  {
   "cell_type": "code",
   "execution_count": 39,
   "metadata": {},
   "outputs": [
    {
     "name": "stdout",
     "output_type": "stream",
     "text": [
      "Ширина = 60\n",
      "Длинна = 200\n",
      "Высота = 35\n",
      "Результат:\n",
      "Коробка №2\n",
      "Конец программы!\n"
     ]
    }
   ],
   "source": [
    "width = 60\n",
    "lenght = 200\n",
    "height = 35\n",
    "print('Ширина =', width)\n",
    "print('Длинна =', lenght)\n",
    "print('Высота =', height)      \n",
    "print(\"Результат:\")\n",
    "if width < 15 and lenght < 15 and height < 15:\n",
    "     print('Коробка №1')\n",
    "elif ((width > 15 and width < 50) or (lenght > 15 and lenght < 50) or (height > 15 and height < 50)) and lenght <= 200:\n",
    "     print('Коробка №2')\n",
    "elif (lenght > 200):\n",
    "     print('Упаковка для лыж')\n",
    "else:\n",
    "     print('Cтандартная коробка №3')\n",
    "print(\"Конец программы!\")\n",
    "    "
   ]
  },
  {
   "cell_type": "markdown",
   "metadata": {},
   "source": [
    "Задание 5 (необязательное)\n",
    "Дана переменная, в которой хранится шестизначное число (номер проездного билета). Напишите программу, которая будет определять, является ли данный билет \"счастливым\". Билет считается счастливым, если сумма первых трех цифр совпадает с суммой последних трех цифр номера.\n",
    "\n",
    "Примеры работы программы:\n",
    "\n",
    "number = 123456\n",
    "Результат:\n",
    "Неасчастливый билет\n",
    "\n",
    "number = 123321\n",
    "Результат:\n",
    "Счастливый билет"
   ]
  },
  {
   "cell_type": "code",
   "execution_count": 74,
   "metadata": {},
   "outputs": [
    {
     "name": "stdout",
     "output_type": "stream",
     "text": [
      "Билет № 787994\n",
      "Номер билета счасливый!\n",
      "Конец программы!\n"
     ]
    }
   ],
   "source": [
    "number = 787994\n",
    "print(\"Билет №\",number)\n",
    "#находим цифры в числе\n",
    "first_digit = number//100000\n",
    "second_digit = (number - first_digit*100000)//10000\n",
    "third_digit = (number - first_digit*100000 - second_digit*10000)//1000\n",
    "fourth_digit = (number - first_digit*100000 - second_digit*10000 - third_digit*1000)//100\n",
    "fifth_digit = (number - first_digit*100000 - second_digit*10000 - third_digit*1000 - fourth_digit*100)//10\n",
    "sixth_digit = number - first_digit*100000 - second_digit*10000 - third_digit*1000 - fourth_digit*100 - fifth_digit*10\n",
    "\n",
    "#проверяем выполнение условия\n",
    "if first_digit + second_digit + third_digit == fourth_digit + fifth_digit + sixth_digit:\n",
    "    print (\"Номер билета счасливый!\")\n",
    "else:\n",
    "    print (\"Номер билета обычный.\")\n",
    "print(\"Конец программы!\")"
   ]
  },
  {
   "cell_type": "markdown",
   "metadata": {},
   "source": [
    "Напишите программу, которая сможет вычислять площади трех фигур (круг, треугольник и прямоугольник). Тип фигуры запрашиваем через пользовательский ввод, после чего делаем запрос характеристик фигуры:\n",
    "\n",
    "если пользователь выбрал круг, запрашиваем его радиус,\n",
    "если треугольник – длины трех его сторон;\n",
    "если прямоугольник – длины двух его сторон.\n",
    "Пример работы программы:\n",
    "\n",
    "Введите тип фигуры:\n",
    "Круг\n",
    "\n",
    "Введите радиус круга:\n",
    "10\n",
    "Результат:\n",
    "Площадь круга: 314.16\n",
    "\n",
    "Введите тип фигуры:\n",
    "Треугольник\n",
    "\n",
    "Введите длину стороны A:\n",
    "2\n",
    "\n",
    "Введите длину стороны B:\n",
    "2\n",
    "\n",
    "Введите длину стороны C:\n",
    "3\n",
    "Результат:\n",
    "Площадь треугольника: 1.98"
   ]
  },
  {
   "cell_type": "code",
   "execution_count": 3,
   "metadata": {
    "scrolled": true
   },
   "outputs": [
    {
     "name": "stdout",
     "output_type": "stream",
     "text": [
      "Введите тип фигуры: 'Круг', 'Треугольник' или 'Прямоугольник'?\n",
      "Вами указано: Прямоугольник\n",
      "Укажите стороны прямоугольника в см:\n",
      " Сторона А = 10\n",
      " Сторона B = 60\n",
      "Площадь Прямоугольника равна:  600 кв.см\n",
      "Конец программы!\n"
     ]
    }
   ],
   "source": [
    "import math\n",
    "figure = input(\"Введите тип фигуры: 'Круг', 'Треугольник' или 'Прямоугольник'?\\nВами указано: \")\n",
    "\n",
    "if figure == 'Круг':\n",
    "    figure_R = int(input(\"Укажите радиус Круга 'R' в см: \"))\n",
    "    print('R = ', figure_R, 'см')\n",
    "    fiqure_sq = math.pi*figure_R**2\n",
    "    print('Площадь Круга равна: ',fiqure_sq , 'кв.см')\n",
    "\n",
    "\n",
    "elif figure == 'Треугольник':\n",
    "    figure_side_A = int(input(\"Укажите стороны треугольника в см:\\n Сторона А = \"))\n",
    "    figure_side_B = int(input(\" Сторона B = \"))\n",
    "    figure_side_C = int(input(\" Сторона C = \"))\n",
    "    if not (figure_side_A + figure_side_B > figure_side_C and figure_side_A + figure_side_C > figure_side_B and figure_side_B + figure_side_C > figure_side_A):\n",
    "            print(\"Треугольника с такими сторонами не существует, введите корректные длины сторон\")\n",
    "    else:    \n",
    "        figure_p = (figure_side_A + figure_side_B + figure_side_C)/2 #расчет полупериметра треугольника\n",
    "        figure_sq =(figure_p*(figure_p - figure_side_A)*(figure_p - figure_side_B)*(figure_p - figure_side_C))**0.5\n",
    "        print('Площадь Треугольника равна: ',figure_sq , 'кв.см')             \n",
    "\n",
    "elif figure == 'Прямоугольник':\n",
    "    figure_side_A = int(input(\"Укажите стороны прямоугольника в см:\\n Сторона А = \"))\n",
    "    figure_side_B = int(input(\" Сторона B = \"))\n",
    "    figure_sq = figure_side_A *  figure_side_B\n",
    "    print('Площадь Прямоугольника равна: ',figure_sq , 'кв.см')\n",
    "else: print('Тип фигуры не выбран! Введите корректные данные!')\n",
    "print(\"Конец программы!\")\n",
    "    "
   ]
  },
  {
   "cell_type": "code",
   "execution_count": null,
   "metadata": {},
   "outputs": [],
   "source": []
  }
 ],
 "metadata": {
  "kernelspec": {
   "display_name": "Python 3",
   "language": "python",
   "name": "python3"
  },
  "language_info": {
   "codemirror_mode": {
    "name": "ipython",
    "version": 3
   },
   "file_extension": ".py",
   "mimetype": "text/x-python",
   "name": "python",
   "nbconvert_exporter": "python",
   "pygments_lexer": "ipython3",
   "version": "3.8.5"
  }
 },
 "nbformat": 4,
 "nbformat_minor": 4
}
